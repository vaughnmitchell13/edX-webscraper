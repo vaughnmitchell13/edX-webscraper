{
 "cells": [
  {
   "cell_type": "markdown",
   "metadata": {},
   "source": [
    " Name: Vaughn Mitchell <br>\n",
    " LSE ID: 202384798 <br>\n",
    " ME204 - Data Engineering for the Social World"
   ]
  },
  {
   "cell_type": "markdown",
   "metadata": {},
   "source": [
    "# **Notebook 3: Exploratory Data Analysis and Visualization**"
   ]
  },
  {
   "cell_type": "markdown",
   "metadata": {},
   "source": [
    "Goals:\n",
    "- Relate course-length and price together to see which courses offer the most value.\n",
    "- Generate a data visualization of courses by category, examining which subject is offered most on edX's webpage.\n",
    "- Explore relationships between price, enrollment, time-commitment, and subject. \n",
    "    - The idea is to have price on the x-axis, time-commitment on the y-axis, sized by enrollment, and colored by subject."
   ]
  },
  {
   "cell_type": "code",
   "execution_count": 1,
   "metadata": {},
   "outputs": [
    {
     "name": "stdout",
     "output_type": "stream",
     "text": [
      "Requirement already satisfied: matplotlib in /Users/vaughnmitchell/anaconda3/lib/python3.12/site-packages (3.8.4)\n",
      "Requirement already satisfied: lets-plot in /Users/vaughnmitchell/anaconda3/lib/python3.12/site-packages (4.3.3)\n",
      "Requirement already satisfied: numpy in /Users/vaughnmitchell/anaconda3/lib/python3.12/site-packages (1.26.4)\n",
      "Requirement already satisfied: cairosvg in /Users/vaughnmitchell/anaconda3/lib/python3.12/site-packages (2.7.1)\n",
      "Requirement already satisfied: contourpy>=1.0.1 in /Users/vaughnmitchell/anaconda3/lib/python3.12/site-packages (from matplotlib) (1.2.0)\n",
      "Requirement already satisfied: cycler>=0.10 in /Users/vaughnmitchell/anaconda3/lib/python3.12/site-packages (from matplotlib) (0.11.0)\n",
      "Requirement already satisfied: fonttools>=4.22.0 in /Users/vaughnmitchell/anaconda3/lib/python3.12/site-packages (from matplotlib) (4.51.0)\n",
      "Requirement already satisfied: kiwisolver>=1.3.1 in /Users/vaughnmitchell/anaconda3/lib/python3.12/site-packages (from matplotlib) (1.4.4)\n",
      "Requirement already satisfied: packaging>=20.0 in /Users/vaughnmitchell/anaconda3/lib/python3.12/site-packages (from matplotlib) (23.2)\n",
      "Requirement already satisfied: pillow>=8 in /Users/vaughnmitchell/anaconda3/lib/python3.12/site-packages (from matplotlib) (10.3.0)\n",
      "Requirement already satisfied: pyparsing>=2.3.1 in /Users/vaughnmitchell/anaconda3/lib/python3.12/site-packages (from matplotlib) (3.0.9)\n",
      "Requirement already satisfied: python-dateutil>=2.7 in /Users/vaughnmitchell/anaconda3/lib/python3.12/site-packages (from matplotlib) (2.9.0.post0)\n",
      "Requirement already satisfied: pypng in /Users/vaughnmitchell/anaconda3/lib/python3.12/site-packages (from lets-plot) (0.20220715.0)\n",
      "Requirement already satisfied: palettable in /Users/vaughnmitchell/anaconda3/lib/python3.12/site-packages (from lets-plot) (3.3.3)\n",
      "Requirement already satisfied: cairocffi in /Users/vaughnmitchell/anaconda3/lib/python3.12/site-packages (from cairosvg) (1.6.1)\n",
      "Requirement already satisfied: cssselect2 in /Users/vaughnmitchell/anaconda3/lib/python3.12/site-packages (from cairosvg) (0.2.1)\n",
      "Requirement already satisfied: defusedxml in /Users/vaughnmitchell/anaconda3/lib/python3.12/site-packages (from cairosvg) (0.7.1)\n",
      "Requirement already satisfied: tinycss2 in /Users/vaughnmitchell/anaconda3/lib/python3.12/site-packages (from cairosvg) (1.2.1)\n",
      "Requirement already satisfied: six>=1.5 in /Users/vaughnmitchell/anaconda3/lib/python3.12/site-packages (from python-dateutil>=2.7->matplotlib) (1.16.0)\n",
      "Requirement already satisfied: cffi>=1.1.0 in /Users/vaughnmitchell/anaconda3/lib/python3.12/site-packages (from cairocffi->cairosvg) (1.16.0)\n",
      "Requirement already satisfied: webencodings>=0.4 in /Users/vaughnmitchell/anaconda3/lib/python3.12/site-packages (from tinycss2->cairosvg) (0.5.1)\n",
      "Requirement already satisfied: pycparser in /Users/vaughnmitchell/anaconda3/lib/python3.12/site-packages (from cffi>=1.1.0->cairocffi->cairosvg) (2.21)\n"
     ]
    }
   ],
   "source": [
    "!pip install matplotlib lets-plot numpy cairosvg"
   ]
  },
  {
   "cell_type": "markdown",
   "metadata": {},
   "source": [
    "Imports:"
   ]
  },
  {
   "cell_type": "code",
   "execution_count": 2,
   "metadata": {},
   "outputs": [],
   "source": [
    "import pandas as pd\n",
    "import sqlite3\n",
    "import matplotlib\n",
    "import numpy as np\n",
    "import os\n",
    "from lets_plot import *\n",
    "import cairosvg"
   ]
  },
  {
   "cell_type": "code",
   "execution_count": 3,
   "metadata": {},
   "outputs": [
    {
     "data": {
      "text/html": [
       "\n",
       "            <div id=\"Uk1Cf4\"></div>\n",
       "            <script type=\"text/javascript\" data-lets-plot-script=\"library\">\n",
       "                if(!window.letsPlotCallQueue) {\n",
       "                    window.letsPlotCallQueue = [];\n",
       "                }; \n",
       "                window.letsPlotCall = function(f) {\n",
       "                    window.letsPlotCallQueue.push(f);\n",
       "                };\n",
       "                (function() {\n",
       "                    var script = document.createElement(\"script\");\n",
       "                    script.type = \"text/javascript\";\n",
       "                    script.src = \"https://cdn.jsdelivr.net/gh/JetBrains/lets-plot@v4.3.3/js-package/distr/lets-plot.min.js\";\n",
       "                    script.onload = function() {\n",
       "                        window.letsPlotCall = function(f) {f();};\n",
       "                        window.letsPlotCallQueue.forEach(function(f) {f();});\n",
       "                        window.letsPlotCallQueue = [];\n",
       "                        \n",
       "                    };\n",
       "                    script.onerror = function(event) {\n",
       "                        window.letsPlotCall = function(f) {};    // noop\n",
       "                        window.letsPlotCallQueue = [];\n",
       "                        var div = document.createElement(\"div\");\n",
       "                        div.style.color = 'darkred';\n",
       "                        div.textContent = 'Error loading Lets-Plot JS';\n",
       "                        document.getElementById(\"Uk1Cf4\").appendChild(div);\n",
       "                    };\n",
       "                    var e = document.getElementById(\"Uk1Cf4\");\n",
       "                    e.appendChild(script);\n",
       "                })()\n",
       "            </script>\n",
       "            "
      ]
     },
     "metadata": {},
     "output_type": "display_data"
    }
   ],
   "source": [
    "LetsPlot.setup_html()"
   ]
  },
  {
   "cell_type": "code",
   "execution_count": 4,
   "metadata": {},
   "outputs": [],
   "source": [
    "os.chdir(\"../data/clean\")"
   ]
  },
  {
   "cell_type": "code",
   "execution_count": 5,
   "metadata": {},
   "outputs": [],
   "source": [
    "DATA_FOLDER = os.getcwd()"
   ]
  },
  {
   "cell_type": "code",
   "execution_count": 6,
   "metadata": {},
   "outputs": [],
   "source": [
    "%load_ext sql\n",
    "%config SqlMagic.autocommit=True"
   ]
  },
  {
   "cell_type": "code",
   "execution_count": 7,
   "metadata": {},
   "outputs": [],
   "source": [
    "conn = sqlite3.connect(os.path.join(DATA_FOLDER, \"edx.db\"))"
   ]
  },
  {
   "cell_type": "markdown",
   "metadata": {},
   "source": [
    "Let's run some queries for EDA. The first query examines how course duration relates to price:"
   ]
  },
  {
   "cell_type": "code",
   "execution_count": 8,
   "metadata": {},
   "outputs": [
    {
     "data": {
      "text/html": [
       "<div>\n",
       "<style scoped>\n",
       "    .dataframe tbody tr th:only-of-type {\n",
       "        vertical-align: middle;\n",
       "    }\n",
       "\n",
       "    .dataframe tbody tr th {\n",
       "        vertical-align: top;\n",
       "    }\n",
       "\n",
       "    .dataframe thead th {\n",
       "        text-align: right;\n",
       "    }\n",
       "</style>\n",
       "<table border=\"1\" class=\"dataframe\">\n",
       "  <thead>\n",
       "    <tr style=\"text-align: right;\">\n",
       "      <th></th>\n",
       "      <th>course_length_weeks</th>\n",
       "      <th>average_price_£</th>\n",
       "    </tr>\n",
       "  </thead>\n",
       "  <tbody>\n",
       "    <tr>\n",
       "      <th>0</th>\n",
       "      <td>1</td>\n",
       "      <td>45.142857</td>\n",
       "    </tr>\n",
       "    <tr>\n",
       "      <th>1</th>\n",
       "      <td>2</td>\n",
       "      <td>74.137931</td>\n",
       "    </tr>\n",
       "    <tr>\n",
       "      <th>2</th>\n",
       "      <td>3</td>\n",
       "      <td>83.683333</td>\n",
       "    </tr>\n",
       "    <tr>\n",
       "      <th>3</th>\n",
       "      <td>4</td>\n",
       "      <td>109.178261</td>\n",
       "    </tr>\n",
       "    <tr>\n",
       "      <th>4</th>\n",
       "      <td>5</td>\n",
       "      <td>99.250000</td>\n",
       "    </tr>\n",
       "    <tr>\n",
       "      <th>5</th>\n",
       "      <td>6</td>\n",
       "      <td>111.210191</td>\n",
       "    </tr>\n",
       "    <tr>\n",
       "      <th>6</th>\n",
       "      <td>7</td>\n",
       "      <td>110.185185</td>\n",
       "    </tr>\n",
       "    <tr>\n",
       "      <th>7</th>\n",
       "      <td>8</td>\n",
       "      <td>119.269231</td>\n",
       "    </tr>\n",
       "    <tr>\n",
       "      <th>8</th>\n",
       "      <td>9</td>\n",
       "      <td>122.533333</td>\n",
       "    </tr>\n",
       "    <tr>\n",
       "      <th>9</th>\n",
       "      <td>10</td>\n",
       "      <td>120.864407</td>\n",
       "    </tr>\n",
       "    <tr>\n",
       "      <th>10</th>\n",
       "      <td>11</td>\n",
       "      <td>159.857143</td>\n",
       "    </tr>\n",
       "    <tr>\n",
       "      <th>11</th>\n",
       "      <td>12</td>\n",
       "      <td>150.952381</td>\n",
       "    </tr>\n",
       "    <tr>\n",
       "      <th>12</th>\n",
       "      <td>13</td>\n",
       "      <td>131.500000</td>\n",
       "    </tr>\n",
       "    <tr>\n",
       "      <th>13</th>\n",
       "      <td>14</td>\n",
       "      <td>136.153846</td>\n",
       "    </tr>\n",
       "    <tr>\n",
       "      <th>14</th>\n",
       "      <td>15</td>\n",
       "      <td>118.142857</td>\n",
       "    </tr>\n",
       "    <tr>\n",
       "      <th>15</th>\n",
       "      <td>16</td>\n",
       "      <td>134.571429</td>\n",
       "    </tr>\n",
       "    <tr>\n",
       "      <th>16</th>\n",
       "      <td>18</td>\n",
       "      <td>38.000000</td>\n",
       "    </tr>\n",
       "    <tr>\n",
       "      <th>17</th>\n",
       "      <td>20</td>\n",
       "      <td>926.333333</td>\n",
       "    </tr>\n",
       "  </tbody>\n",
       "</table>\n",
       "</div>"
      ],
      "text/plain": [
       "    course_length_weeks  average_price_£\n",
       "0                     1        45.142857\n",
       "1                     2        74.137931\n",
       "2                     3        83.683333\n",
       "3                     4       109.178261\n",
       "4                     5        99.250000\n",
       "5                     6       111.210191\n",
       "6                     7       110.185185\n",
       "7                     8       119.269231\n",
       "8                     9       122.533333\n",
       "9                    10       120.864407\n",
       "10                   11       159.857143\n",
       "11                   12       150.952381\n",
       "12                   13       131.500000\n",
       "13                   14       136.153846\n",
       "14                   15       118.142857\n",
       "15                   16       134.571429\n",
       "16                   18        38.000000\n",
       "17                   20       926.333333"
      ]
     },
     "execution_count": 8,
     "metadata": {},
     "output_type": "execute_result"
    }
   ],
   "source": [
    "df_course_length_avg_price = pd.read_sql_query('''\n",
    "SELECT\n",
    "    course_length_weeks,\n",
    "    AVG(price_£) as average_price_£\n",
    "FROM \n",
    "    value\n",
    "GROUP BY course_length_weeks\n",
    "\n",
    "\n",
    "''', conn)\n",
    "\n",
    "df_course_length_avg_price.set_index(\"course_length_weeks\").sort_index(ascending=True)\n",
    "df_course_length_avg_price"
   ]
  },
  {
   "cell_type": "markdown",
   "metadata": {},
   "source": [
    "I don't need a visualization for this data, but I think it would be helpful to find a correlation coefficient for these two columns to see if the average price (£) correlates with course length (weeks)."
   ]
  },
  {
   "cell_type": "code",
   "execution_count": 9,
   "metadata": {},
   "outputs": [
    {
     "name": "stdout",
     "output_type": "stream",
     "text": [
      "The correlation coefficient between course length (weeks) and average price (£) is: 0.5048325573088821. This is a moderate correlation.\n"
     ]
    }
   ],
   "source": [
    "corr = df_course_length_avg_price['course_length_weeks'].corr(df_course_length_avg_price['average_price_£'])\n",
    "insight = f\"The correlation coefficient between course length (weeks) and average price (£) is: {corr}.\"\n",
    "if abs(corr)>=0.8:\n",
    "    print(insight + \" This is a strong correlation!\")\n",
    "elif abs(corr) < 0.8 and abs(corr)>=0.5:\n",
    "    print(insight + \" This is a moderate correlation.\")\n",
    "elif abs(corr) < 0.5:\n",
    "    print(insight) + \" This is a weak correlation.\""
   ]
  },
  {
   "cell_type": "markdown",
   "metadata": {},
   "source": [
    "Given this, I want to see which course has the highest duration-value ratio. How much value can be obtained from the course, respective to its price? I ignore time commitment per week because this is an estimate, and especially for self-paced courses, it is not expected that students who purchase the certificate will pace themself at the prescribed rate. For instance, they could save all the work until the end of the course, or do all the modules on the final day before the next week begins. Let's take a look:"
   ]
  },
  {
   "cell_type": "markdown",
   "metadata": {},
   "source": [
    "I need to create a different DataFrame that copies the `value` table from the `edx.db` database as I am not working with average prices for this question:"
   ]
  },
  {
   "cell_type": "code",
   "execution_count": 10,
   "metadata": {},
   "outputs": [],
   "source": [
    "df_duration_to_price_ratio = pd.read_sql_query('''\n",
    "SELECT\n",
    "    course,\n",
    "    course_length_weeks,\n",
    "    price_£\n",
    "FROM \n",
    "    value\n",
    "\n",
    "\n",
    "''', conn)"
   ]
  },
  {
   "cell_type": "markdown",
   "metadata": {},
   "source": [
    "I could technically find the answer to this question two ways: Divide the `price_£` column by the `course_length_weeks` column and find the minimum, or vice versa and find the maximum. I will choose the latter:"
   ]
  },
  {
   "cell_type": "code",
   "execution_count": 11,
   "metadata": {},
   "outputs": [
    {
     "data": {
      "text/html": [
       "<div>\n",
       "<style scoped>\n",
       "    .dataframe tbody tr th:only-of-type {\n",
       "        vertical-align: middle;\n",
       "    }\n",
       "\n",
       "    .dataframe tbody tr th {\n",
       "        vertical-align: top;\n",
       "    }\n",
       "\n",
       "    .dataframe thead th {\n",
       "        text-align: right;\n",
       "    }\n",
       "</style>\n",
       "<table border=\"1\" class=\"dataframe\">\n",
       "  <thead>\n",
       "    <tr style=\"text-align: right;\">\n",
       "      <th></th>\n",
       "      <th>course</th>\n",
       "      <th>course_length_weeks</th>\n",
       "      <th>price_£</th>\n",
       "    </tr>\n",
       "  </thead>\n",
       "  <tbody>\n",
       "    <tr>\n",
       "      <th>0</th>\n",
       "      <td>How to Learn Online</td>\n",
       "      <td>2</td>\n",
       "      <td>54</td>\n",
       "    </tr>\n",
       "    <tr>\n",
       "      <th>1</th>\n",
       "      <td>The Science of Happiness</td>\n",
       "      <td>11</td>\n",
       "      <td>131</td>\n",
       "    </tr>\n",
       "    <tr>\n",
       "      <th>2</th>\n",
       "      <td>Remote Work Revolution for Everyone</td>\n",
       "      <td>3</td>\n",
       "      <td>116</td>\n",
       "    </tr>\n",
       "    <tr>\n",
       "      <th>3</th>\n",
       "      <td>Data Visualization and Building Dashboards wit...</td>\n",
       "      <td>4</td>\n",
       "      <td>77</td>\n",
       "    </tr>\n",
       "    <tr>\n",
       "      <th>4</th>\n",
       "      <td>Six Sigma Part 2: Analyze, Improve, Control</td>\n",
       "      <td>8</td>\n",
       "      <td>147</td>\n",
       "    </tr>\n",
       "  </tbody>\n",
       "</table>\n",
       "</div>"
      ],
      "text/plain": [
       "                                              course  course_length_weeks  \\\n",
       "0                                How to Learn Online                    2   \n",
       "1                           The Science of Happiness                   11   \n",
       "2                Remote Work Revolution for Everyone                    3   \n",
       "3  Data Visualization and Building Dashboards wit...                    4   \n",
       "4        Six Sigma Part 2: Analyze, Improve, Control                    8   \n",
       "\n",
       "   price_£  \n",
       "0       54  \n",
       "1      131  \n",
       "2      116  \n",
       "3       77  \n",
       "4      147  "
      ]
     },
     "execution_count": 11,
     "metadata": {},
     "output_type": "execute_result"
    }
   ],
   "source": [
    "df_duration_to_price_ratio.head()"
   ]
  },
  {
   "cell_type": "code",
   "execution_count": 12,
   "metadata": {},
   "outputs": [],
   "source": [
    "df_duration_to_price_ratio['value'] = df_duration_to_price_ratio['course_length_weeks']/df_duration_to_price_ratio['price_£']"
   ]
  },
  {
   "cell_type": "code",
   "execution_count": 13,
   "metadata": {},
   "outputs": [
    {
     "data": {
      "text/html": [
       "<div>\n",
       "<style scoped>\n",
       "    .dataframe tbody tr th:only-of-type {\n",
       "        vertical-align: middle;\n",
       "    }\n",
       "\n",
       "    .dataframe tbody tr th {\n",
       "        vertical-align: top;\n",
       "    }\n",
       "\n",
       "    .dataframe thead th {\n",
       "        text-align: right;\n",
       "    }\n",
       "</style>\n",
       "<table border=\"1\" class=\"dataframe\">\n",
       "  <thead>\n",
       "    <tr style=\"text-align: right;\">\n",
       "      <th></th>\n",
       "      <th>course</th>\n",
       "      <th>course_length_weeks</th>\n",
       "      <th>price_£</th>\n",
       "      <th>value</th>\n",
       "    </tr>\n",
       "  </thead>\n",
       "  <tbody>\n",
       "    <tr>\n",
       "      <th>0</th>\n",
       "      <td>How to Learn Online</td>\n",
       "      <td>2</td>\n",
       "      <td>54</td>\n",
       "      <td>0.037037</td>\n",
       "    </tr>\n",
       "    <tr>\n",
       "      <th>1</th>\n",
       "      <td>The Science of Happiness</td>\n",
       "      <td>11</td>\n",
       "      <td>131</td>\n",
       "      <td>0.083969</td>\n",
       "    </tr>\n",
       "    <tr>\n",
       "      <th>2</th>\n",
       "      <td>Remote Work Revolution for Everyone</td>\n",
       "      <td>3</td>\n",
       "      <td>116</td>\n",
       "      <td>0.025862</td>\n",
       "    </tr>\n",
       "    <tr>\n",
       "      <th>3</th>\n",
       "      <td>Data Visualization and Building Dashboards wit...</td>\n",
       "      <td>4</td>\n",
       "      <td>77</td>\n",
       "      <td>0.051948</td>\n",
       "    </tr>\n",
       "    <tr>\n",
       "      <th>4</th>\n",
       "      <td>Six Sigma Part 2: Analyze, Improve, Control</td>\n",
       "      <td>8</td>\n",
       "      <td>147</td>\n",
       "      <td>0.054422</td>\n",
       "    </tr>\n",
       "  </tbody>\n",
       "</table>\n",
       "</div>"
      ],
      "text/plain": [
       "                                              course  course_length_weeks  \\\n",
       "0                                How to Learn Online                    2   \n",
       "1                           The Science of Happiness                   11   \n",
       "2                Remote Work Revolution for Everyone                    3   \n",
       "3  Data Visualization and Building Dashboards wit...                    4   \n",
       "4        Six Sigma Part 2: Analyze, Improve, Control                    8   \n",
       "\n",
       "   price_£     value  \n",
       "0       54  0.037037  \n",
       "1      131  0.083969  \n",
       "2      116  0.025862  \n",
       "3       77  0.051948  \n",
       "4      147  0.054422  "
      ]
     },
     "execution_count": 13,
     "metadata": {},
     "output_type": "execute_result"
    }
   ],
   "source": [
    "df_duration_to_price_ratio.head()"
   ]
  },
  {
   "cell_type": "code",
   "execution_count": 14,
   "metadata": {},
   "outputs": [
    {
     "data": {
      "text/plain": [
       "course                 Solid Waste Management\n",
       "course_length_weeks                         6\n",
       "price_£                                     4\n",
       "value                                     1.5\n",
       "Name: 663, dtype: object"
      ]
     },
     "execution_count": 14,
     "metadata": {},
     "output_type": "execute_result"
    }
   ],
   "source": [
    "df_duration_to_price_ratio.loc[df_duration_to_price_ratio['value'].idxmax()]\n"
   ]
  },
  {
   "cell_type": "markdown",
   "metadata": {},
   "source": [
    "The course that offers the most value is \"Solid Waste Management\". 6 weeks for a £4 certificate is great value, granted if you're studying environmental studies."
   ]
  },
  {
   "cell_type": "markdown",
   "metadata": {},
   "source": [
    "## Visualization #1\n",
    "Thinking of edX at large, which subjects offer the most courses?"
   ]
  },
  {
   "cell_type": "markdown",
   "metadata": {},
   "source": [
    "Let me load pertinent columns from the `courses` table from `edx.db` into a DataFrame:"
   ]
  },
  {
   "cell_type": "code",
   "execution_count": 15,
   "metadata": {},
   "outputs": [],
   "source": [
    "df_vis1 = pd.read_sql_query('''\n",
    "    SELECT \n",
    "        COUNT(course) as course_count,\n",
    "        subject\n",
    "    FROM\n",
    "        courses\n",
    "    GROUP BY subject\n",
    "''',conn)"
   ]
  },
  {
   "cell_type": "code",
   "execution_count": 16,
   "metadata": {},
   "outputs": [
    {
     "data": {
      "text/html": [
       "<div>\n",
       "<style scoped>\n",
       "    .dataframe tbody tr th:only-of-type {\n",
       "        vertical-align: middle;\n",
       "    }\n",
       "\n",
       "    .dataframe tbody tr th {\n",
       "        vertical-align: top;\n",
       "    }\n",
       "\n",
       "    .dataframe thead th {\n",
       "        text-align: right;\n",
       "    }\n",
       "</style>\n",
       "<table border=\"1\" class=\"dataframe\">\n",
       "  <thead>\n",
       "    <tr style=\"text-align: right;\">\n",
       "      <th></th>\n",
       "      <th>course_count</th>\n",
       "      <th>subject</th>\n",
       "    </tr>\n",
       "  </thead>\n",
       "  <tbody>\n",
       "    <tr>\n",
       "      <th>0</th>\n",
       "      <td>10</td>\n",
       "      <td>Architecture</td>\n",
       "    </tr>\n",
       "    <tr>\n",
       "      <th>1</th>\n",
       "      <td>10</td>\n",
       "      <td>Art &amp; Culture</td>\n",
       "    </tr>\n",
       "    <tr>\n",
       "      <th>2</th>\n",
       "      <td>31</td>\n",
       "      <td>Biology &amp; Life Sciences</td>\n",
       "    </tr>\n",
       "    <tr>\n",
       "      <th>3</th>\n",
       "      <td>155</td>\n",
       "      <td>Business &amp; Management</td>\n",
       "    </tr>\n",
       "    <tr>\n",
       "      <th>4</th>\n",
       "      <td>11</td>\n",
       "      <td>Chemistry</td>\n",
       "    </tr>\n",
       "    <tr>\n",
       "      <th>5</th>\n",
       "      <td>47</td>\n",
       "      <td>Communication</td>\n",
       "    </tr>\n",
       "    <tr>\n",
       "      <th>6</th>\n",
       "      <td>214</td>\n",
       "      <td>Computer Science</td>\n",
       "    </tr>\n",
       "    <tr>\n",
       "      <th>7</th>\n",
       "      <td>87</td>\n",
       "      <td>Data Analysis &amp; Statistics</td>\n",
       "    </tr>\n",
       "    <tr>\n",
       "      <th>8</th>\n",
       "      <td>9</td>\n",
       "      <td>Design</td>\n",
       "    </tr>\n",
       "    <tr>\n",
       "      <th>9</th>\n",
       "      <td>54</td>\n",
       "      <td>Economics &amp; Finance</td>\n",
       "    </tr>\n",
       "    <tr>\n",
       "      <th>10</th>\n",
       "      <td>29</td>\n",
       "      <td>Education &amp; Teacher Training</td>\n",
       "    </tr>\n",
       "    <tr>\n",
       "      <th>11</th>\n",
       "      <td>7</td>\n",
       "      <td>Electronics</td>\n",
       "    </tr>\n",
       "    <tr>\n",
       "      <th>12</th>\n",
       "      <td>3</td>\n",
       "      <td>Energy &amp; Earth Sciences</td>\n",
       "    </tr>\n",
       "    <tr>\n",
       "      <th>13</th>\n",
       "      <td>66</td>\n",
       "      <td>Engineering</td>\n",
       "    </tr>\n",
       "    <tr>\n",
       "      <th>14</th>\n",
       "      <td>14</td>\n",
       "      <td>Environmental Studies</td>\n",
       "    </tr>\n",
       "    <tr>\n",
       "      <th>15</th>\n",
       "      <td>1</td>\n",
       "      <td>Ethics</td>\n",
       "    </tr>\n",
       "    <tr>\n",
       "      <th>16</th>\n",
       "      <td>12</td>\n",
       "      <td>Food &amp; Nutrition</td>\n",
       "    </tr>\n",
       "    <tr>\n",
       "      <th>17</th>\n",
       "      <td>8</td>\n",
       "      <td>Health &amp; Safety</td>\n",
       "    </tr>\n",
       "    <tr>\n",
       "      <th>18</th>\n",
       "      <td>3</td>\n",
       "      <td>History</td>\n",
       "    </tr>\n",
       "    <tr>\n",
       "      <th>19</th>\n",
       "      <td>31</td>\n",
       "      <td>Humanities</td>\n",
       "    </tr>\n",
       "    <tr>\n",
       "      <th>20</th>\n",
       "      <td>28</td>\n",
       "      <td>Language</td>\n",
       "    </tr>\n",
       "    <tr>\n",
       "      <th>21</th>\n",
       "      <td>2</td>\n",
       "      <td>Law</td>\n",
       "    </tr>\n",
       "    <tr>\n",
       "      <th>22</th>\n",
       "      <td>4</td>\n",
       "      <td>Literature</td>\n",
       "    </tr>\n",
       "    <tr>\n",
       "      <th>23</th>\n",
       "      <td>30</td>\n",
       "      <td>Math</td>\n",
       "    </tr>\n",
       "    <tr>\n",
       "      <th>24</th>\n",
       "      <td>24</td>\n",
       "      <td>Medicine</td>\n",
       "    </tr>\n",
       "    <tr>\n",
       "      <th>25</th>\n",
       "      <td>5</td>\n",
       "      <td>Music</td>\n",
       "    </tr>\n",
       "    <tr>\n",
       "      <th>26</th>\n",
       "      <td>1</td>\n",
       "      <td>Philanthropy</td>\n",
       "    </tr>\n",
       "    <tr>\n",
       "      <th>27</th>\n",
       "      <td>5</td>\n",
       "      <td>Philosophy &amp; Ethics</td>\n",
       "    </tr>\n",
       "    <tr>\n",
       "      <th>28</th>\n",
       "      <td>11</td>\n",
       "      <td>Physics</td>\n",
       "    </tr>\n",
       "    <tr>\n",
       "      <th>29</th>\n",
       "      <td>4</td>\n",
       "      <td>Science</td>\n",
       "    </tr>\n",
       "    <tr>\n",
       "      <th>30</th>\n",
       "      <td>37</td>\n",
       "      <td>Social Sciences</td>\n",
       "    </tr>\n",
       "  </tbody>\n",
       "</table>\n",
       "</div>"
      ],
      "text/plain": [
       "    course_count                       subject\n",
       "0             10                  Architecture\n",
       "1             10                 Art & Culture\n",
       "2             31       Biology & Life Sciences\n",
       "3            155         Business & Management\n",
       "4             11                     Chemistry\n",
       "5             47                 Communication\n",
       "6            214              Computer Science\n",
       "7             87    Data Analysis & Statistics\n",
       "8              9                        Design\n",
       "9             54           Economics & Finance\n",
       "10            29  Education & Teacher Training\n",
       "11             7                   Electronics\n",
       "12             3       Energy & Earth Sciences\n",
       "13            66                   Engineering\n",
       "14            14         Environmental Studies\n",
       "15             1                        Ethics\n",
       "16            12              Food & Nutrition\n",
       "17             8               Health & Safety\n",
       "18             3                       History\n",
       "19            31                    Humanities\n",
       "20            28                      Language\n",
       "21             2                           Law\n",
       "22             4                    Literature\n",
       "23            30                          Math\n",
       "24            24                      Medicine\n",
       "25             5                         Music\n",
       "26             1                  Philanthropy\n",
       "27             5           Philosophy & Ethics\n",
       "28            11                       Physics\n",
       "29             4                       Science\n",
       "30            37               Social Sciences"
      ]
     },
     "execution_count": 16,
     "metadata": {},
     "output_type": "execute_result"
    }
   ],
   "source": [
    "df_vis1"
   ]
  },
  {
   "cell_type": "markdown",
   "metadata": {},
   "source": [
    "Now, let's plot this:"
   ]
  },
  {
   "cell_type": "code",
   "execution_count": 17,
   "metadata": {},
   "outputs": [
    {
     "data": {
      "text/html": [
       "   <div id=\"zkYhsr\"></div>\n",
       "   <script type=\"text/javascript\" data-lets-plot-script=\"plot\">\n",
       "       (function() {\n",
       "           var plotSpec={\n",
       "\"data\":{\n",
       "\"course_count\":[10.0,10.0,31.0,155.0,11.0,47.0,214.0,87.0,9.0,54.0,29.0,7.0,3.0,66.0,14.0,1.0,12.0,8.0,3.0,31.0,28.0,2.0,4.0,30.0,24.0,5.0,1.0,5.0,11.0,4.0,37.0],\n",
       "\"subject\":[\"Architecture\",\"Art & Culture\",\"Biology & Life Sciences\",\"Business & Management\",\"Chemistry\",\"Communication\",\"Computer Science\",\"Data Analysis & Statistics\",\"Design\",\"Economics & Finance\",\"Education & Teacher Training\",\"Electronics\",\"Energy & Earth Sciences\",\"Engineering\",\"Environmental Studies\",\"Ethics\",\"Food & Nutrition\",\"Health & Safety\",\"History\",\"Humanities\",\"Language\",\"Law\",\"Literature\",\"Math\",\"Medicine\",\"Music\",\"Philanthropy\",\"Philosophy & Ethics\",\"Physics\",\"Science\",\"Social Sciences\"]\n",
       "},\n",
       "\"mapping\":{\n",
       "},\n",
       "\"data_meta\":{\n",
       "},\n",
       "\"ggtitle\":{\n",
       "\"text\":\"Number of Courses per Category\"\n",
       "},\n",
       "\"theme\":{\n",
       "\"name\":\"minimal2\"\n",
       "},\n",
       "\"kind\":\"plot\",\n",
       "\"scales\":[{\n",
       "\"name\":\"Subject\",\n",
       "\"aesthetic\":\"x\"\n",
       "},{\n",
       "\"name\":\"Course Count\",\n",
       "\"aesthetic\":\"y\"\n",
       "}],\n",
       "\"layers\":[{\n",
       "\"geom\":\"bar\",\n",
       "\"stat\":\"identity\",\n",
       "\"mapping\":{\n",
       "\"x\":\"subject\",\n",
       "\"y\":\"course_count\"\n",
       "},\n",
       "\"data_meta\":{\n",
       "},\n",
       "\"fill\":\"red\",\n",
       "\"data\":{\n",
       "}\n",
       "}],\n",
       "\"metainfo_list\":[]\n",
       "};\n",
       "           var plotContainer = document.getElementById(\"zkYhsr\");\n",
       "           window.letsPlotCall(function() {{\n",
       "               LetsPlot.buildPlotFromProcessedSpecs(plotSpec, -1, -1, plotContainer);\n",
       "           }});\n",
       "       })();\n",
       "   </script>"
      ],
      "text/plain": [
       "<lets_plot.plot.core.PlotSpec at 0x16c32e090>"
      ]
     },
     "execution_count": 17,
     "metadata": {},
     "output_type": "execute_result"
    }
   ],
   "source": [
    "vis1 = ggplot(df_vis1) + \\\n",
    "geom_bar(mapping=aes(x=\"subject\",y=\"course_count\"), stat=\"identity\", fill=\"red\") + \\\n",
    "ggtitle(\"Number of Courses per Category\") + \\\n",
    "xlab(\"Subject\") + \\\n",
    "ylab(\"Course Count\") + theme_minimal2()\n",
    "\n",
    "vis1"
   ]
  },
  {
   "cell_type": "code",
   "execution_count": 18,
   "metadata": {},
   "outputs": [
    {
     "data": {
      "text/plain": [
       "'/Users/vaughnmitchell/Desktop/LSE/ME204/code/myproject/data/clean/docs/figures'"
      ]
     },
     "execution_count": 18,
     "metadata": {},
     "output_type": "execute_result"
    }
   ],
   "source": [
    "DATA_FOLDER = os.path.join(os.getcwd(), \"docs/figures\")\n",
    "DATA_FOLDER"
   ]
  },
  {
   "cell_type": "code",
   "execution_count": 19,
   "metadata": {},
   "outputs": [
    {
     "data": {
      "text/plain": [
       "'/Users/vaughnmitchell/Desktop/LSE/ME204/code/myproject/data/clean/docs/figures1.svg'"
      ]
     },
     "execution_count": 19,
     "metadata": {},
     "output_type": "execute_result"
    }
   ],
   "source": [
    "ggsave(vis1, DATA_FOLDER + \"1.svg\")"
   ]
  },
  {
   "cell_type": "code",
   "execution_count": 20,
   "metadata": {},
   "outputs": [],
   "source": [
    "cairosvg.svg2png(url=DATA_FOLDER + \"1.svg\", write_to=DATA_FOLDER + \"1.png\") "
   ]
  },
  {
   "cell_type": "markdown",
   "metadata": {},
   "source": [
    "## Visualization #2"
   ]
  },
  {
   "cell_type": "markdown",
   "metadata": {},
   "source": [
    "Now for an exploration of 4 variables: price, time-commitment, enrollment, and subject."
   ]
  },
  {
   "cell_type": "code",
   "execution_count": 21,
   "metadata": {},
   "outputs": [],
   "source": [
    "df_vis2 = pd.read_sql_query(''' \n",
    "SELECT \n",
    "     course,\n",
    "     price_£,\n",
    "     time_commitment,\n",
    "     current_enrollment,\n",
    "     subject\n",
    "FROM\n",
    "     courses                         \n",
    "                         \n",
    "''', conn)"
   ]
  },
  {
   "cell_type": "code",
   "execution_count": 22,
   "metadata": {},
   "outputs": [
    {
     "data": {
      "text/html": [
       "<div>\n",
       "<style scoped>\n",
       "    .dataframe tbody tr th:only-of-type {\n",
       "        vertical-align: middle;\n",
       "    }\n",
       "\n",
       "    .dataframe tbody tr th {\n",
       "        vertical-align: top;\n",
       "    }\n",
       "\n",
       "    .dataframe thead th {\n",
       "        text-align: right;\n",
       "    }\n",
       "</style>\n",
       "<table border=\"1\" class=\"dataframe\">\n",
       "  <thead>\n",
       "    <tr style=\"text-align: right;\">\n",
       "      <th></th>\n",
       "      <th>course</th>\n",
       "      <th>price_£</th>\n",
       "      <th>time_commitment</th>\n",
       "      <th>current_enrollment</th>\n",
       "      <th>subject</th>\n",
       "    </tr>\n",
       "  </thead>\n",
       "  <tbody>\n",
       "    <tr>\n",
       "      <th>0</th>\n",
       "      <td>How to Learn Online</td>\n",
       "      <td>54</td>\n",
       "      <td>2.5</td>\n",
       "      <td>287998</td>\n",
       "      <td>Education &amp; Teacher Training</td>\n",
       "    </tr>\n",
       "    <tr>\n",
       "      <th>1</th>\n",
       "      <td>The Science of Happiness</td>\n",
       "      <td>131</td>\n",
       "      <td>4.5</td>\n",
       "      <td>583920</td>\n",
       "      <td>Social Sciences</td>\n",
       "    </tr>\n",
       "    <tr>\n",
       "      <th>2</th>\n",
       "      <td>Remote Work Revolution for Everyone</td>\n",
       "      <td>116</td>\n",
       "      <td>2.5</td>\n",
       "      <td>114666</td>\n",
       "      <td>Business &amp; Management</td>\n",
       "    </tr>\n",
       "    <tr>\n",
       "      <th>3</th>\n",
       "      <td>Data Visualization and Building Dashboards wit...</td>\n",
       "      <td>77</td>\n",
       "      <td>2.5</td>\n",
       "      <td>48226</td>\n",
       "      <td>Data Analysis &amp; Statistics</td>\n",
       "    </tr>\n",
       "    <tr>\n",
       "      <th>4</th>\n",
       "      <td>Six Sigma Part 2: Analyze, Improve, Control</td>\n",
       "      <td>147</td>\n",
       "      <td>3.5</td>\n",
       "      <td>85904</td>\n",
       "      <td>Business &amp; Management</td>\n",
       "    </tr>\n",
       "    <tr>\n",
       "      <th>...</th>\n",
       "      <td>...</td>\n",
       "      <td>...</td>\n",
       "      <td>...</td>\n",
       "      <td>...</td>\n",
       "      <td>...</td>\n",
       "    </tr>\n",
       "    <tr>\n",
       "      <th>948</th>\n",
       "      <td>IT Fundamentals for Business Professionals: Cy...</td>\n",
       "      <td>54</td>\n",
       "      <td>4.5</td>\n",
       "      <td>12980</td>\n",
       "      <td>Computer Science</td>\n",
       "    </tr>\n",
       "    <tr>\n",
       "      <th>949</th>\n",
       "      <td>Leadership and Management for PM Practitioners...</td>\n",
       "      <td>193</td>\n",
       "      <td>3.5</td>\n",
       "      <td>18445</td>\n",
       "      <td>Business &amp; Management</td>\n",
       "    </tr>\n",
       "    <tr>\n",
       "      <th>950</th>\n",
       "      <td>Découvrir la responsabilité sociétale des entrep…</td>\n",
       "      <td>155</td>\n",
       "      <td>6.0</td>\n",
       "      <td>0</td>\n",
       "      <td>Business &amp; Management</td>\n",
       "    </tr>\n",
       "    <tr>\n",
       "      <th>951</th>\n",
       "      <td>Quantitative Research Methods</td>\n",
       "      <td>100</td>\n",
       "      <td>3.5</td>\n",
       "      <td>0</td>\n",
       "      <td>Social Sciences</td>\n",
       "    </tr>\n",
       "    <tr>\n",
       "      <th>952</th>\n",
       "      <td>Music, Art, Society, and Self</td>\n",
       "      <td>61</td>\n",
       "      <td>3.0</td>\n",
       "      <td>0</td>\n",
       "      <td>Art &amp; Culture</td>\n",
       "    </tr>\n",
       "  </tbody>\n",
       "</table>\n",
       "<p>953 rows × 5 columns</p>\n",
       "</div>"
      ],
      "text/plain": [
       "                                                course  price_£  \\\n",
       "0                                  How to Learn Online       54   \n",
       "1                             The Science of Happiness      131   \n",
       "2                  Remote Work Revolution for Everyone      116   \n",
       "3    Data Visualization and Building Dashboards wit...       77   \n",
       "4          Six Sigma Part 2: Analyze, Improve, Control      147   \n",
       "..                                                 ...      ...   \n",
       "948  IT Fundamentals for Business Professionals: Cy...       54   \n",
       "949  Leadership and Management for PM Practitioners...      193   \n",
       "950  Découvrir la responsabilité sociétale des entrep…      155   \n",
       "951                      Quantitative Research Methods      100   \n",
       "952                      Music, Art, Society, and Self       61   \n",
       "\n",
       "     time_commitment  current_enrollment                       subject  \n",
       "0                2.5              287998  Education & Teacher Training  \n",
       "1                4.5              583920               Social Sciences  \n",
       "2                2.5              114666         Business & Management  \n",
       "3                2.5               48226    Data Analysis & Statistics  \n",
       "4                3.5               85904         Business & Management  \n",
       "..               ...                 ...                           ...  \n",
       "948              4.5               12980              Computer Science  \n",
       "949              3.5               18445         Business & Management  \n",
       "950              6.0                   0         Business & Management  \n",
       "951              3.5                   0               Social Sciences  \n",
       "952              3.0                   0                 Art & Culture  \n",
       "\n",
       "[953 rows x 5 columns]"
      ]
     },
     "execution_count": 22,
     "metadata": {},
     "output_type": "execute_result"
    }
   ],
   "source": [
    "df_vis2"
   ]
  },
  {
   "cell_type": "markdown",
   "metadata": {},
   "source": [
    "In order to size each course by enrollment, I defined this function called `map_size` that let's me size the points by predefined intervals:"
   ]
  },
  {
   "cell_type": "code",
   "execution_count": 23,
   "metadata": {},
   "outputs": [],
   "source": [
    "def map_size(enrollment):\n",
    "    if enrollment == 0:\n",
    "        return 1  # Smallest size\n",
    "    elif 0 < enrollment < 50000:\n",
    "        return 2\n",
    "    elif 50000 <= enrollment < 100000:\n",
    "        return 3\n",
    "    elif 100000 <= enrollment < 250000:\n",
    "        return 4\n",
    "    elif 250000 <= enrollment < 500000:\n",
    "        return 5\n",
    "    elif 500000 <= enrollment < 750000:\n",
    "        return 6\n",
    "    elif 750000 <= enrollment < 1000000:\n",
    "        return 7  # Largest size\n",
    "    elif 1000000 < enrollment:\n",
    "        return 8\n",
    "\n",
    "df_vis2['size_category'] = df_vis2['current_enrollment'].apply(map_size)"
   ]
  },
  {
   "cell_type": "markdown",
   "metadata": {},
   "source": [
    "I created this visualization with price on the y-axis, time commitment on the x axis, points colored by subject and sized by enrollment:"
   ]
  },
  {
   "cell_type": "code",
   "execution_count": 24,
   "metadata": {},
   "outputs": [
    {
     "data": {
      "text/html": [
       "   <div id=\"OG1e27\"></div>\n",
       "   <script type=\"text/javascript\" data-lets-plot-script=\"plot\">\n",
       "       (function() {\n",
       "           var plotSpec={\n",
       "\"data\":{\n",
       "\"price_£\":[54.0,131.0,116.0,77.0,147.0,77.0,38.0,147.0,117.0,155.0,77.0,46.0,147.0,46.0,54.0,46.0,193.0,162.0,155.0,116.0,232.0,77.0,170.0,116.0,162.0,170.0,162.0,193.0,170.0,193.0,116.0,77.0,77.0,232.0,38.0,38.0,170.0,147.0,47.0,232.0,46.0,193.0,77.0,426.0,23.0,162.0,162.0,38.0,193.0,100.0,116.0,116.0,38.0,170.0,232.0,39.0,116.0,147.0,162.0,193.0,116.0,77.0,232.0,162.0,170.0,54.0,144.0,117.0,155.0,155.0,30.0,30.0,155.0,193.0,116.0,77.0,46.0,30.0,30.0,175.0,31.0,77.0,155.0,170.0,193.0,46.0,77.0,77.0,193.0,232.0,147.0,116.0,193.0,147.0,77.0,116.0,77.0,116.0,193.0,19.0,38.0,193.0,232.0,232.0,147.0,77.0,116.0,35.0,147.0,162.0,77.0,116.0,117.0,77.0,147.0,77.0,77.0,123.0,162.0,77.0,155.0,92.0,39.0,77.0,38.0,77.0,147.0,193.0,147.0,46.0,155.0,77.0,38.0,92.0,170.0,147.0,16.0,77.0,147.0,193.0,426.0,77.0,116.0,116.0,100.0,147.0,54.0,155.0,232.0,117.0,23.0,232.0,46.0,147.0,170.0,170.0,232.0,147.0,92.0,77.0,116.0,77.0,193.0,147.0,77.0,193.0,77.0,38.0,38.0,116.0,116.0,147.0,30.0,232.0,35.0,193.0,15.0,30.0,147.0,116.0,77.0,92.0,170.0,30.0,116.0,92.0,116.0,77.0,116.0,116.0,170.0,232.0,30.0,155.0,155.0,155.0,232.0,193.0,117.0,11.0,23.0,38.0,46.0,193.0,117.0,116.0,117.0,19.0,77.0,4.0,116.0,170.0,74.0,39.0,30.0,170.0,30.0,92.0,46.0,147.0,38.0,147.0,162.0,54.0,193.0,46.0,116.0,272.0,116.0,15.0,193.0,116.0,116.0,193.0,155.0,77.0,155.0,155.0,77.0,39.0,77.0,77.0,23.0,193.0,116.0,92.0,38.0,162.0,39.0,15.0,117.0,116.0,77.0,96.0,23.0,155.0,116.0,193.0,117.0,46.0,35.0,341.0,116.0,38.0,116.0,38.0,35.0,61.0,46.0,131.0,193.0,54.0,23.0,147.0,193.0,310.0,38.0,116.0,46.0,77.0,162.0,54.0,116.0,46.0,232.0,162.0,30.0,272.0,23.0,35.0,38.0,193.0,19.0,240.0,147.0,108.0,38.0,30.0,108.0,54.0,19.0,43.0,116.0,77.0,54.0,116.0,193.0,43.0,85.0,147.0,193.0,46.0,38.0,116.0,193.0,162.0,193.0,155.0,162.0,193.0,155.0,170.0,131.0,77.0,116.0,193.0,100.0,92.0,155.0,175.0,77.0,155.0,117.0,147.0,78.0,46.0,77.0,116.0,139.0,54.0,38.0,310.0,116.0,162.0,116.0,19.0,232.0,147.0,193.0,147.0,232.0,13.0,193.0,38.0,97.0,170.0,35.0,46.0,147.0,147.0,92.0,117.0,147.0,232.0,193.0,155.0,155.0,100.0,77.0,23.0,30.0,4.0,38.0,116.0,147.0,77.0,170.0,46.0,116.0,23.0,108.0,46.0,38.0,23.0,23.0,38.0,193.0,147.0,38.0,77.0,139.0,16.0,170.0,287.0,116.0,38.0,170.0,77.0,54.0,77.0,77.0,77.0,77.0,77.0,116.0,193.0,147.0,426.0,30.0,85.0,38.0,193.0,155.0,193.0,30.0,100.0,77.0,92.0,155.0,30.0,194.0,108.0,15.0,162.0,46.0,46.0,131.0,19.0,96.0,100.0,170.0,77.0,30.0,77.0,147.0,30.0,38.0,116.0,193.0,15.0,116.0,193.0,193.0,30.0,147.0,38.0,35.0,116.0,54.0,48.0,46.0,38.0,30.0,77.0,147.0,96.0,147.0,38.0,116.0,46.0,30.0,77.0,147.0,92.0,262.0,116.0,131.0,30.0,46.0,30.0,170.0,155.0,38.0,193.0,240.0,147.0,46.0,54.0,116.0,38.0,147.0,116.0,38.0,108.0,193.0,46.0,147.0,147.0,39.0,38.0,39.0,147.0,46.0,92.0,19.0,147.0,193.0,77.0,155.0,46.0,147.0,46.0,77.0,77.0,30.0,19.0,77.0,46.0,30.0,77.0,15.0,117.0,43.0,23.0,147.0,23.0,77.0,30.0,19.0,147.0,155.0,139.0,77.0,77.0,100.0,54.0,147.0,46.0,38.0,310.0,23.0,193.0,108.0,38.0,30.0,147.0,155.0,77.0,46.0,54.0,193.0,35.0,30.0,139.0,30.0,147.0,19.0,147.0,46.0,155.0,30.0,123.0,23.0,100.0,46.0,193.0,349.0,39.0,194.0,30.0,147.0,77.0,77.0,39.0,15.0,77.0,162.0,38.0,92.0,23.0,162.0,39.0,232.0,170.0,4.0,92.0,193.0,108.0,193.0,116.0,4.0,116.0,19.0,19.0,92.0,193.0,155.0,43.0,155.0,108.0,193.0,108.0,108.0,155.0,232.0,116.0,4.0,60.0,100.0,38.0,193.0,100.0,35.0,116.0,92.0,193.0,92.0,147.0,30.0,77.0,232.0,77.0,116.0,19.0,116.0,139.0,38.0,139.0,162.0,388.0,147.0,46.0,193.0,12.0,30.0,46.0,23.0,30.0,108.0,46.0,46.0,147.0,38.0,116.0,232.0,20.0,287.0,35.0,46.0,116.0,131.0,116.0,193.0,262.0,175.0,61.0,46.0,155.0,155.0,272.0,4.0,30.0,30.0,193.0,77.0,193.0,116.0,147.0,193.0,46.0,46.0,46.0,11.0,4.0,131.0,77.0,15.0,77.0,116.0,35.0,147.0,39.0,147.0,19.0,43.0,15.0,349.0,147.0,19.0,147.0,170.0,23.0,35.0,19.0,19.0,193.0,193.0,30.0,116.0,472.0,39.0,193.0,341.0,147.0,116.0,139.0,147.0,100.0,92.0,77.0,46.0,131.0,139.0,147.0,46.0,116.0,147.0,39.0,77.0,100.0,23.0,19.0,147.0,35.0,77.0,271.0,77.0,30.0,193.0,193.0,116.0,116.0,54.0,30.0,30.0,193.0,30.0,147.0,349.0,30.0,193.0,108.0,77.0,19.0,38.0,77.0,193.0,92.0,193.0,77.0,77.0,23.0,77.0,116.0,38.0,46.0,147.0,46.0,116.0,30.0,92.0,77.0,310.0,193.0,287.0,54.0,155.0,193.0,54.0,193.0,77.0,139.0,193.0,46.0,19.0,147.0,38.0,30.0,116.0,54.0,38.0,38.0,139.0,54.0,50.0,54.0,116.0,54.0,46.0,131.0,108.0,61.0,131.0,46.0,147.0,38.0,147.0,77.0,54.0,193.0,116.0,131.0,131.0,77.0,147.0,46.0,77.0,232.0,100.0,97.0,193.0,147.0,63.0,77.0,46.0,54.0,100.0,23.0,39.0,5.0,23.0,69.0,117.0,23.0,193.0,147.0,77.0,155.0,19.0,97.0,19.0,193.0,116.0,23.0,139.0,30.0,2019.0,92.0,147.0,116.0,193.0,38.0,46.0,39.0,116.0,30.0,19.0,46.0,35.0,287.0,46.0,116.0,77.0,108.0,77.0,116.0,30.0,15.0,193.0,108.0,155.0,77.0,232.0,147.0,46.0,116.0,39.0,162.0,193.0,77.0,19.0,23.0,139.0,30.0,108.0,46.0,54.0,100.0,30.0,15.0,147.0,8.0,193.0,349.0,193.0,39.0,15.0,147.0,147.0,116.0,193.0,38.0,170.0,240.0,46.0,15.0,621.0,38.0,46.0,147.0,170.0,30.0,147.0,100.0,155.0,97.0,19.0,116.0,30.0,46.0,131.0,116.0,131.0,155.0,131.0,186.0,30.0,19.0,108.0,193.0,116.0,46.0,193.0,162.0,155.0,39.0,147.0,155.0,147.0,15.0,116.0,388.0,19.0,46.0,46.0,155.0,100.0,39.0,77.0,155.0,61.0,46.0,92.0,131.0,15.0,77.0,100.0,46.0,46.0,155.0,15.0,46.0,139.0,43.0,19.0,15.0,147.0,116.0,54.0,193.0,155.0,100.0,61.0],\n",
       "\"time_commitment\":[2.5,4.5,2.5,2.5,3.5,2.5,3.0,5.0,3.0,2.5,4.5,1.5,2.5,3.0,1.5,2.5,2.5,2.5,5.0,5.5,3.5,7.0,1.5,3.0,2.5,7.5,4.5,5.0,1.5,4.0,6.5,1.5,5.0,2.5,5.0,3.0,2.5,2.5,3.0,4.5,3.5,4.0,2.5,12.0,4.5,4.5,6.0,3.0,4.0,3.5,6.0,5.0,2.0,3.0,4.5,4.5,3.0,6.0,3.0,15.0,1.5,4.5,4.0,7.5,1.5,9.0,4.0,7.5,4.0,5.0,9.0,4.0,5.0,5.0,3.0,12.0,3.0,6.5,3.5,3.5,1.5,1.5,4.0,3.0,3.0,3.0,4.5,3.0,2.5,3.5,2.5,1.5,4.0,5.0,3.0,2.5,1.5,1.5,2.5,2.5,2.0,2.5,5.0,3.5,4.0,2.5,3.5,3.5,2.5,2.5,2.5,2.0,3.0,1.5,9.5,3.5,3.0,7.5,6.0,7.0,5.0,4.5,7.0,4.5,4.0,3.0,5.5,7.5,9.5,4.0,4.0,3.0,10.0,2.5,4.0,3.5,1.5,3.0,2.5,6.0,12.0,2.5,3.0,4.0,20.0,4.0,9.0,5.0,3.0,4.0,4.0,9.0,5.5,6.5,1.5,3.0,3.0,7.0,2.5,4.5,3.0,5.0,5.5,3.0,1.5,7.0,7.5,5.0,1.5,4.0,6.5,3.0,5.5,4.0,3.5,7.0,6.5,5.0,3.5,11.0,2.5,7.5,3.0,4.5,6.0,7.5,7.5,1.5,1.5,1.5,4.0,6.0,6.5,7.0,5.0,5.0,3.5,2.5,3.0,9.5,4.5,2.5,2.0,6.0,4.0,3.0,4.0,5.5,9.5,4.0,5.0,2.0,2.5,7.0,4.0,4.0,4.0,3.0,4.0,3.0,3.5,9.0,4.0,3.5,2.5,4.0,3.5,9.0,3.5,5.0,4.0,6.0,1.5,4.0,2.5,5.0,1.5,1.5,1.5,5.0,7.0,3.5,1.5,7.0,3.0,11.0,2.5,7.0,4.5,2.5,3.0,17.5,8.0,4.5,3.5,13.5,2.5,3.5,4.0,6.5,5.0,5.0,7.5,7.0,7.5,3.5,2.5,2.0,3.0,2.5,5.5,2.0,4.5,2.5,7.0,11.0,2.5,2.5,2.5,3.0,1.5,5.0,3.0,2.5,3.5,4.5,4.5,9.0,3.5,4.5,2.0,2.5,5.5,5.0,8.0,10.0,2.5,2.0,7.0,6.0,5.5,9.0,4.0,4.5,3.0,9.0,2.5,7.0,6.0,2.5,2.5,4.0,2.5,3.0,6.0,5.0,3.5,4.0,4.0,6.0,5.5,3.0,2.5,3.0,2.5,8.0,3.5,10.0,5.0,3.5,6.5,3.5,4.0,4.0,5.0,3.0,7.0,6.5,4.0,1.5,3.5,11.0,4.0,4.5,7.5,2.5,9.0,6.5,3.5,3.0,3.0,9.0,5.0,7.0,2.5,4.0,6.0,6.0,4.0,2.5,7.5,4.0,6.5,3.0,5.0,5.0,13.5,20.0,2.5,2.5,4.0,4.0,3.0,1.5,1.5,3.0,3.0,3.5,3.0,4.5,7.0,3.5,5.0,4.0,4.5,5.0,7.5,3.0,8.5,3.5,3.5,1.5,3.0,7.5,4.5,10.5,3.0,2.0,9.0,5.0,7.5,5.0,7.5,4.5,5.5,2.5,3.5,12.0,5.0,6.0,1.5,2.5,2.0,2.5,4.5,2.0,3.0,3.5,5.0,3.5,10.5,2.5,8.0,2.5,4.0,6.5,3.5,4.5,4.5,20.0,2.5,3.0,6.5,6.0,2.5,3.5,4.5,5.0,5.0,3.5,7.5,7.0,5.0,5.0,3.5,4.5,3.5,1.5,3.0,7.0,3.0,3.5,4.5,5.0,9.5,4.5,3.5,5.0,6.0,2.5,4.0,2.5,7.0,10.0,10.0,7.0,2.5,4.0,5.5,4.5,5.0,2.5,1.5,6.0,5.0,2.5,3.0,3.0,3.5,2.0,1.5,3.5,5.0,3.5,4.0,4.0,2.5,9.5,7.0,5.0,6.0,6.5,3.0,6.5,5.5,5.0,2.5,30.0,2.5,3.5,9.5,3.0,5.0,3.0,5.0,3.5,9.0,3.0,2.5,6.0,4.0,9.0,5.0,3.5,5.0,4.5,2.5,4.5,6.5,1.5,5.0,6.0,3.0,7.5,2.5,1.5,4.0,3.0,3.5,11.0,6.0,3.0,2.5,4.5,4.5,2.5,8.0,2.0,3.5,2.5,3.5,6.5,6.0,3.0,7.0,2.5,2.5,9.5,3.0,2.5,5.0,4.5,3.0,7.0,5.0,2.5,10.0,4.0,10.5,4.5,3.0,4.0,30.0,1.5,5.0,5.0,9.0,2.5,6.0,4.5,6.0,3.0,9.0,3.5,5.0,3.0,7.0,4.5,3.5,5.0,4.0,2.5,4.5,4.5,3.0,5.0,6.5,11.0,2.5,5.0,2.5,1.5,5.0,1.5,4.0,5.0,2.5,8.5,3.0,5.0,1.5,6.5,4.5,3.0,2.0,5.5,5.5,7.0,4.5,1.5,9.0,7.0,4.0,5.5,7.5,5.0,4.0,2.5,2.5,5.0,9.5,2.5,3.5,1.5,4.5,3.0,4.5,4.5,7.0,4.5,1.5,1.5,2.0,3.0,3.0,3.5,5.0,6.0,4.5,5.0,4.5,6.5,7.5,10.0,3.5,2.5,3.0,4.0,2.5,11.0,null,2.5,3.5,2.5,4.5,2.5,4.0,3.0,2.5,3.0,3.0,3.0,2.5,2.5,10.0,3.5,3.5,1.5,6.5,8.5,1.5,2.5,2.5,2.5,7.0,3.5,10.0,1.5,2.5,9.5,3.0,2.5,7.0,3.5,5.0,2.5,5.5,4.5,5.0,12.0,9.0,2.5,4.5,5.0,3.0,1.5,1.5,5.0,7.5,5.0,5.5,3.5,6.0,2.5,1.5,6.0,6.5,6.0,3.5,2.0,4.0,1.5,3.5,3.5,4.0,5.5,4.0,5.0,15.0,7.0,2.0,6.0,6.5,5.0,7.0,15.0,7.0,9.5,4.5,3.5,5.5,7.0,7.0,4.5,2.0,6.0,7.5,10.0,5.0,7.5,15.0,3.5,4.5,6.5,4.0,3.0,1.5,3.0,5.5,5.0,5.0,5.0,11.0,5.0,7.5,4.5,7.5,2.5,9.0,9.0,2.5,4.5,4.0,6.5,2.5,9.0,4.5,5.0,3.5,3.0,3.5,4.5,3.0,9.0,4.0,7.5,1.5,1.5,5.5,19.0,2.0,4.5,6.0,4.0,9.5,12.5,5.0,7.0,9.0,4.0,2.5,2.5,3.5,1.5,7.0,2.0,7.0,9.0,3.5,6.5,3.0,2.5,3.5,2.5,4.0,3.0,3.5,4.5,3.0,4.5,3.5,10.0,9.0,1.5,9.0,1.5,10.0,10.0,4.5,9.0,2.5,2.5,5.0,1.5,2.0,6.0,4.5,1.5,2.5,1.5,2.5,3.0,2.5,4.0,20.0,5.0,2.5,9.0,9.0,7.5,3.0,5.0,1.5,4.5,4.5,2.5,5.0,3.5,2.5,9.0,9.0,5.0,9.0,6.5,2.5,6.5,3.0,3.5,6.5,2.5,2.5,4.0,2.5,3.0,5.0,4.0,4.5,5.0,5.0,5.0,7.0,3.0,2.5,4.5,1.5,5.0,1.5,5.0,1.5,7.5,15.0,9.0,12.5,7.0,3.0,5.5,4.5,9.0,3.0,3.5,7.5,5.0,5.0,4.0,13.5,4.0,3.5,3.5,5.0,3.0,7.5,2.5,7.0,5.0,5.0,6.0,5.0,3.5,5.0,4.0,3.0,4.0,2.5,4.5,9.0,4.0,4.0,1.5,3.0,4.5,4.5,6.0,2.5,4.5,3.0,5.0,9.0,4.5,4.5,6.5,5.0,1.5,14.0,2.5,3.5,3.0,3.5,3.0,1.5,5.0,3.5,3.0,4.0,5.0,2.5,4.5,1.5,2.0,4.5,3.5,6.0,3.5,3.0],\n",
       "\"subject\":[\"Education & Teacher Training\",\"Social Sciences\",\"Business & Management\",\"Data Analysis & Statistics\",\"Business & Management\",\"Data Analysis & Statistics\",\"Philanthropy\",\"Business & Management\",\"Business & Management\",\"Business & Management\",\"Computer Science\",\"Education & Teacher Training\",\"Business & Management\",\"Physics\",\"Education & Teacher Training\",\"Communication\",\"Business & Management\",\"Business & Management\",\"Communication\",\"Computer Science\",\"Data Analysis & Statistics\",\"Data Analysis & Statistics\",\"Social Sciences\",\"Data Analysis & Statistics\",\"Humanities\",\"Communication\",\"Medicine\",\"Computer Science\",\"Data Analysis & Statistics\",\"Biology & Life Sciences\",\"Communication\",\"Computer Science\",\"Data Analysis & Statistics\",\"Computer Science\",\"Language\",\"Computer Science\",\"Social Sciences\",\"Computer Science\",\"Communication\",\"Business & Management\",\"Language\",\"Business & Management\",\"Data Analysis & Statistics\",\"Economics & Finance\",\"Communication\",\"Humanities\",\"Computer Science\",\"Computer Science\",\"Architecture\",\"Humanities\",\"Computer Science\",\"Business & Management\",\"Computer Science\",\"Data Analysis & Statistics\",\"Data Analysis & Statistics\",\"Business & Management\",\"Biology & Life Sciences\",\"Electronics\",\"Communication\",\"Data Analysis & Statistics\",\"Philosophy & Ethics\",\"Data Analysis & Statistics\",\"Economics & Finance\",\"Data Analysis & Statistics\",\"Data Analysis & Statistics\",\"Computer Science\",\"Data Analysis & Statistics\",\"Biology & Life Sciences\",\"Business & Management\",\"Engineering\",\"Engineering\",\"Language\",\"Communication\",\"Computer Science\",\"Business & Management\",\"Computer Science\",\"Computer Science\",\"Business & Management\",\"Computer Science\",\"Business & Management\",\"Computer Science\",\"Economics & Finance\",\"Business & Management\",\"Communication\",\"Computer Science\",\"Education & Teacher Training\",\"Computer Science\",\"Computer Science\",\"Business & Management\",\"Biology & Life Sciences\",\"Computer Science\",\"Data Analysis & Statistics\",\"Biology & Life Sciences\",\"Data Analysis & Statistics\",\"Design\",\"Computer Science\",\"Data Analysis & Statistics\",\"Data Analysis & Statistics\",\"Business & Management\",\"Computer Science\",\"Computer Science\",\"Biology & Life Sciences\",\"Medicine\",\"Biology & Life Sciences\",\"Food & Nutrition\",\"Data Analysis & Statistics\",\"Data Analysis & Statistics\",\"Business & Management\",\"Computer Science\",\"Social Sciences\",\"Computer Science\",\"Education & Teacher Training\",\"Business & Management\",\"Design\",\"Computer Science\",\"Computer Science\",\"Data Analysis & Statistics\",\"Engineering\",\"Food & Nutrition\",\"Computer Science\",\"Economics & Finance\",\"Language\",\"Math\",\"Computer Science\",\"Computer Science\",\"Data Analysis & Statistics\",\"Engineering\",\"Computer Science\",\"Computer Science\",\"Language\",\"Business & Management\",\"Data Analysis & Statistics\",\"Computer Science\",\"Communication\",\"Environmental Studies\",\"Computer Science\",\"Computer Science\",\"Computer Science\",\"Computer Science\",\"Chemistry\",\"Economics & Finance\",\"Computer Science\",\"Computer Science\",\"Social Sciences\",\"Computer Science\",\"Data Analysis & Statistics\",\"Computer Science\",\"Communication\",\"Data Analysis & Statistics\",\"Business & Management\",\"Communication\",\"Computer Science\",\"Business & Management\",\"Business & Management\",\"Medicine\",\"Humanities\",\"Education & Teacher Training\",\"Language\",\"Business & Management\",\"Computer Science\",\"Social Sciences\",\"Biology & Life Sciences\",\"Computer Science\",\"Computer Science\",\"Data Analysis & Statistics\",\"Biology & Life Sciences\",\"Computer Science\",\"Computer Science\",\"Computer Science\",\"Math\",\"Business & Management\",\"Computer Science\",\"Electronics\",\"Economics & Finance\",\"Computer Science\",\"Business & Management\",\"Language\",\"Language\",\"Business & Management\",\"Chemistry\",\"Computer Science\",\"Social Sciences\",\"Data Analysis & Statistics\",\"Data Analysis & Statistics\",\"Humanities\",\"Biology & Life Sciences\",\"Humanities\",\"Social Sciences\",\"Data Analysis & Statistics\",\"Data Analysis & Statistics\",\"Computer Science\",\"Literature\",\"Language\",\"Computer Science\",\"Computer Science\",\"Communication\",\"Medicine\",\"Engineering\",\"Business & Management\",\"Design\",\"Computer Science\",\"Business & Management\",\"Education & Teacher Training\",\"Chemistry\",\"Business & Management\",\"Social Sciences\",\"Business & Management\",\"Economics & Finance\",\"Data Analysis & Statistics\",\"Computer Science\",\"Math\",\"Business & Management\",\"Science\",\"Physics\",\"Language\",\"Education & Teacher Training\",\"Data Analysis & Statistics\",\"Data Analysis & Statistics\",\"Humanities\",\"Data Analysis & Statistics\",\"Physics\",\"Electronics\",\"Environmental Studies\",\"Data Analysis & Statistics\",\"Chemistry\",\"Language\",\"Computer Science\",\"Data Analysis & Statistics\",\"Health & Safety\",\"Medicine\",\"Biology & Life Sciences\",\"Humanities\",\"Data Analysis & Statistics\",\"Data Analysis & Statistics\",\"Economics & Finance\",\"Biology & Life Sciences\",\"Business & Management\",\"Business & Management\",\"Design\",\"Engineering\",\"Math\",\"Computer Science\",\"Communication\",\"Computer Science\",\"Social Sciences\",\"Medicine\",\"Computer Science\",\"Food & Nutrition\",\"Chemistry\",\"Computer Science\",\"Business & Management\",\"Data Analysis & Statistics\",\"Computer Science\",\"Engineering\",\"Computer Science\",\"Data Analysis & Statistics\",\"Data Analysis & Statistics\",\"Business & Management\",\"Business & Management\",\"Economics & Finance\",\"Economics & Finance\",\"Business & Management\",\"Humanities\",\"Computer Science\",\"Humanities\",\"Business & Management\",\"Communication\",\"Architecture\",\"Education & Teacher Training\",\"Education & Teacher Training\",\"Math\",\"Humanities\",\"Data Analysis & Statistics\",\"Computer Science\",\"Biology & Life Sciences\",\"Computer Science\",\"Engineering\",\"Business & Management\",\"Data Analysis & Statistics\",\"Computer Science\",\"Computer Science\",\"Computer Science\",\"Humanities\",\"Computer Science\",\"Computer Science\",\"Literature\",\"Language\",\"Data Analysis & Statistics\",\"Data Analysis & Statistics\",\"Business & Management\",\"Communication\",\"Social Sciences\",\"Economics & Finance\",\"Business & Management\",\"Electronics\",\"Engineering\",\"Data Analysis & Statistics\",\"Computer Science\",\"Engineering\",\"Computer Science\",\"Economics & Finance\",\"Engineering\",\"Physics\",\"Computer Science\",\"Math\",\"Economics & Finance\",\"Business & Management\",\"Literature\",\"Business & Management\",\"Social Sciences\",\"Physics\",\"Data Analysis & Statistics\",\"Business & Management\",\"Computer Science\",\"Computer Science\",\"Biology & Life Sciences\",\"Computer Science\",\"Computer Science\",\"Health & Safety\",\"Social Sciences\",\"Business & Management\",\"Math\",\"Medicine\",\"Data Analysis & Statistics\",\"Humanities\",\"Data Analysis & Statistics\",\"Social Sciences\",\"Math\",\"Engineering\",\"Business & Management\",\"Business & Management\",\"Business & Management\",\"Business & Management\",\"Business & Management\",\"Business & Management\",\"Business & Management\",\"Computer Science\",\"Communication\",\"Art & Culture\",\"Communication\",\"Computer Science\",\"Computer Science\",\"Science\",\"Literature\",\"Humanities\",\"Economics & Finance\",\"Communication\",\"Business & Management\",\"Business & Management\",\"Business & Management\",\"Data Analysis & Statistics\",\"Art & Culture\",\"Business & Management\",\"Computer Science\",\"Computer Science\",\"Social Sciences\",\"Business & Management\",\"Engineering\",\"Business & Management\",\"Business & Management\",\"Business & Management\",\"Business & Management\",\"Communication\",\"Data Analysis & Statistics\",\"Business & Management\",\"Data Analysis & Statistics\",\"Math\",\"Computer Science\",\"Data Analysis & Statistics\",\"Computer Science\",\"Language\",\"Computer Science\",\"Computer Science\",\"Social Sciences\",\"Computer Science\",\"Data Analysis & Statistics\",\"Data Analysis & Statistics\",\"Chemistry\",\"Social Sciences\",\"Education & Teacher Training\",\"Engineering\",\"Environmental Studies\",\"Business & Management\",\"Business & Management\",\"Computer Science\",\"Language\",\"Data Analysis & Statistics\",\"Data Analysis & Statistics\",\"Computer Science\",\"Computer Science\",\"Physics\",\"Computer Science\",\"Data Analysis & Statistics\",\"Design\",\"Computer Science\",\"Computer Science\",\"Art & Culture\",\"Computer Science\",\"Computer Science\",\"Biology & Life Sciences\",\"Philosophy & Ethics\",\"Data Analysis & Statistics\",\"Economics & Finance\",\"Computer Science\",\"Data Analysis & Statistics\",\"Engineering\",\"Business & Management\",\"Economics & Finance\",\"Economics & Finance\",\"Business & Management\",\"Design\",\"Business & Management\",\"Economics & Finance\",\"Engineering\",\"Social Sciences\",\"Education & Teacher Training\",\"Computer Science\",\"Education & Teacher Training\",\"Communication\",\"Language\",\"Engineering\",\"Engineering\",\"Economics & Finance\",\"History\",\"Language\",\"Economics & Finance\",\"Engineering\",\"Economics & Finance\",\"Business & Management\",\"Computer Science\",\"Humanities\",\"Data Analysis & Statistics\",\"Business & Management\",\"Biology & Life Sciences\",\"Computer Science\",\"Economics & Finance\",\"Business & Management\",\"Engineering\",\"Business & Management\",\"Communication\",\"Humanities\",\"Data Analysis & Statistics\",\"Business & Management\",\"Math\",\"Economics & Finance\",\"Engineering\",\"Business & Management\",\"Medicine\",\"Math\",\"Engineering\",\"Computer Science\",\"Computer Science\",\"Computer Science\",\"Biology & Life Sciences\",\"Computer Science\",\"Engineering\",\"Business & Management\",\"Social Sciences\",\"Humanities\",\"Language\",\"Social Sciences\",\"Computer Science\",\"Food & Nutrition\",\"Humanities\",\"Business & Management\",\"Engineering\",\"Law\",\"Language\",\"Design\",\"Data Analysis & Statistics\",\"Computer Science\",\"Business & Management\",\"Business & Management\",\"Chemistry\",\"Business & Management\",\"Computer Science\",\"Education & Teacher Training\",\"Biology & Life Sciences\",\"Business & Management\",\"Computer Science\",\"Computer Science\",\"Computer Science\",\"Computer Science\",\"Architecture\",\"Business & Management\",\"Data Analysis & Statistics\",\"Computer Science\",\"Computer Science\",\"Computer Science\",\"Computer Science\",\"Computer Science\",\"Business & Management\",\"Computer Science\",\"Business & Management\",\"Economics & Finance\",\"Education & Teacher Training\",\"Engineering\",\"Data Analysis & Statistics\",\"Business & Management\",\"Energy & Earth Sciences\",\"Computer Science\",\"Social Sciences\",\"Biology & Life Sciences\",\"Computer Science\",\"Language\",\"Economics & Finance\",\"Computer Science\",\"Education & Teacher Training\",\"Food & Nutrition\",\"Biology & Life Sciences\",\"Food & Nutrition\",\"Computer Science\",\"Business & Management\",\"Communication\",\"Business & Management\",\"Physics\",\"Computer Science\",\"Data Analysis & Statistics\",\"Social Sciences\",\"Computer Science\",\"Communication\",\"Computer Science\",\"Education & Teacher Training\",\"Math\",\"Engineering\",\"Communication\",\"Business & Management\",\"Computer Science\",\"Biology & Life Sciences\",\"Computer Science\",\"Humanities\",\"Business & Management\",\"Engineering\",\"Communication\",\"Education & Teacher Training\",\"Computer Science\",\"Math\",\"Health & Safety\",\"Music\",\"Computer Science\",\"Computer Science\",\"Business & Management\",\"Economics & Finance\",\"Computer Science\",\"Business & Management\",\"Computer Science\",\"Business & Management\",\"Computer Science\",\"Education & Teacher Training\",\"Business & Management\",\"Medicine\",\"Energy & Earth Sciences\",\"Communication\",\"Food & Nutrition\",\"Food & Nutrition\",\"Business & Management\",\"Business & Management\",\"Computer Science\",\"Engineering\",\"Engineering\",\"Electronics\",\"Medicine\",\"Business & Management\",\"Economics & Finance\",\"Humanities\",\"Biology & Life Sciences\",\"Environmental Studies\",\"Environmental Studies\",\"Medicine\",\"Data Analysis & Statistics\",\"Data Analysis & Statistics\",\"History\",\"Communication\",\"Language\",\"Economics & Finance\",\"Education & Teacher Training\",\"Data Analysis & Statistics\",\"Architecture\",\"Physics\",\"Math\",\"Computer Science\",\"Data Analysis & Statistics\",\"Economics & Finance\",\"Economics & Finance\",\"Computer Science\",\"Business & Management\",\"Communication\",\"Medicine\",\"Economics & Finance\",\"Architecture\",\"Business & Management\",\"Engineering\",\"Architecture\",\"Economics & Finance\",\"Economics & Finance\",\"Math\",\"Environmental Studies\",\"Computer Science\",\"Communication\",\"Social Sciences\",\"Business & Management\",\"Computer Science\",\"Computer Science\",\"Social Sciences\",\"Business & Management\",\"Computer Science\",\"Computer Science\",\"Language\",\"Computer Science\",\"Computer Science\",\"Communication\",\"Computer Science\",\"Humanities\",\"Engineering\",\"Humanities\",\"Computer Science\",\"Food & Nutrition\",\"Language\",\"Computer Science\",\"Business & Management\",\"Engineering\",\"Medicine\",\"Business & Management\",\"Computer Science\",\"Computer Science\",\"Computer Science\",\"Chemistry\",\"Health & Safety\",\"Engineering\",\"Engineering\",\"Business & Management\",\"Computer Science\",\"Computer Science\",\"Humanities\",\"Computer Science\",\"Social Sciences\",\"Business & Management\",\"Engineering\",\"Computer Science\",\"Math\",\"Environmental Studies\",\"Data Analysis & Statistics\",\"Computer Science\",\"Business & Management\",\"Business & Management\",\"Computer Science\",\"Business & Management\",\"Business & Management\",\"Science\",\"Data Analysis & Statistics\",\"Computer Science\",\"Engineering\",\"Engineering\",\"Engineering\",\"Math\",\"Engineering\",\"Social Sciences\",\"Philosophy & Ethics\",\"Business & Management\",\"Engineering\",\"Education & Teacher Training\",\"Business & Management\",\"Computer Science\",\"Environmental Studies\",\"Art & Culture\",\"Communication\",\"Physics\",\"Medicine\",\"Business & Management\",\"Economics & Finance\",\"Business & Management\",\"Engineering\",\"Business & Management\",\"Law\",\"Humanities\",\"Math\",\"Business & Management\",\"Computer Science\",\"Economics & Finance\",\"Computer Science\",\"Data Analysis & Statistics\",\"Biology & Life Sciences\",\"Computer Science\",\"Economics & Finance\",\"Electronics\",\"Engineering\",\"Math\",\"Data Analysis & Statistics\",\"Data Analysis & Statistics\",\"Economics & Finance\",\"Environmental Studies\",\"Business & Management\",\"Engineering\",\"Business & Management\",\"Computer Science\",\"Medicine\",\"Business & Management\",\"Computer Science\",\"Biology & Life Sciences\",\"Communication\",\"Physics\",\"Communication\",\"Computer Science\",\"Computer Science\",\"Food & Nutrition\",\"Humanities\",\"Business & Management\",\"Engineering\",\"Computer Science\",\"Engineering\",\"Medicine\",\"Economics & Finance\",\"Economics & Finance\",\"Food & Nutrition\",\"Communication\",\"Business & Management\",\"Computer Science\",\"Engineering\",\"Engineering\",\"Computer Science\",\"History\",\"Humanities\",\"Data Analysis & Statistics\",\"Medicine\",\"Electronics\",\"Engineering\",\"Computer Science\",\"Computer Science\",\"Computer Science\",\"Architecture\",\"Computer Science\",\"Engineering\",\"Business & Management\",\"Economics & Finance\",\"Computer Science\",\"Biology & Life Sciences\",\"Computer Science\",\"Social Sciences\",\"Economics & Finance\",\"Economics & Finance\",\"Computer Science\",\"Physics\",\"Math\",\"Education & Teacher Training\",\"Social Sciences\",\"Computer Science\",\"Computer Science\",\"Education & Teacher Training\",\"Computer Science\",\"Computer Science\",\"Education & Teacher Training\",\"Data Analysis & Statistics\",\"Computer Science\",\"Business & Management\",\"Design\",\"Computer Science\",\"Chemistry\",\"Business & Management\",\"Computer Science\",\"Data Analysis & Statistics\",\"Computer Science\",\"Math\",\"Business & Management\",\"Economics & Finance\",\"Economics & Finance\",\"Computer Science\",\"Business & Management\",\"Business & Management\",\"Computer Science\",\"Math\",\"Computer Science\",\"Economics & Finance\",\"Economics & Finance\",\"Engineering\",\"Art & Culture\",\"Philosophy & Ethics\",\"Art & Culture\",\"Communication\",\"Engineering\",\"Environmental Studies\",\"Math\",\"Engineering\",\"Engineering\",\"Data Analysis & Statistics\",\"Engineering\",\"Biology & Life Sciences\",\"Biology & Life Sciences\",\"Computer Science\",\"Environmental Studies\",\"Business & Management\",\"Medicine\",\"Computer Science\",\"Humanities\",\"Health & Safety\",\"Language\",\"Communication\",\"Engineering\",\"Communication\",\"Social Sciences\",\"Language\",\"Medicine\",\"Computer Science\",\"Medicine\",\"Design\",\"Music\",\"Math\",\"Social Sciences\",\"Language\",\"Education & Teacher Training\",\"Art & Culture\",\"Math\",\"Engineering\",\"Computer Science\",\"Communication\",\"Data Analysis & Statistics\",\"Computer Science\",\"Computer Science\",\"Computer Science\",\"Data Analysis & Statistics\",\"Computer Science\",\"Business & Management\",\"Business & Management\",\"Business & Management\",\"Ethics\",\"Humanities\",\"Business & Management\",\"Business & Management\",\"Business & Management\",\"Computer Science\",\"Computer Science\",\"Engineering\",\"Education & Teacher Training\",\"Social Sciences\",\"Social Sciences\",\"Environmental Studies\",\"Communication\",\"Economics & Finance\",\"Humanities\",\"Medicine\",\"Social Sciences\",\"Computer Science\",\"Math\",\"Economics & Finance\",\"Social Sciences\",\"Data Analysis & Statistics\",\"Computer Science\",\"Communication\",\"Chemistry\",\"Data Analysis & Statistics\",\"Energy & Earth Sciences\",\"Computer Science\",\"Biology & Life Sciences\",\"Communication\",\"Business & Management\",\"Education & Teacher Training\",\"Business & Management\",\"Philosophy & Ethics\",\"Music\",\"Business & Management\",\"Business & Management\",\"Economics & Finance\",\"Computer Science\",\"Language\",\"Health & Safety\",\"Engineering\",\"Music\",\"Computer Science\",\"Biology & Life Sciences\",\"Architecture\",\"Art & Culture\",\"Language\",\"Environmental Studies\",\"Engineering\",\"Computer Science\",\"Computer Science\",\"Computer Science\",\"Business & Management\",\"Biology & Life Sciences\",\"Computer Science\",\"Humanities\",\"Engineering\",\"Health & Safety\",\"Medicine\",\"Business & Management\",\"Education & Teacher Training\",\"Computer Science\",\"Business & Management\",\"Computer Science\",\"Education & Teacher Training\",\"Business & Management\",\"Environmental Studies\",\"Communication\",\"Business & Management\",\"Language\",\"Math\",\"Business & Management\",\"Economics & Finance\",\"Medicine\",\"Math\",\"Music\",\"Data Analysis & Statistics\",\"Health & Safety\",\"Business & Management\",\"Economics & Finance\",\"Biology & Life Sciences\",\"Computer Science\",\"Communication\",\"Data Analysis & Statistics\",\"Architecture\",\"Engineering\",\"Business & Management\",\"Business & Management\",\"Business & Management\",\"Engineering\",\"Communication\",\"Social Sciences\",\"Business & Management\",\"Economics & Finance\",\"Business & Management\",\"Business & Management\",\"Computer Science\",\"Chemistry\",\"Engineering\",\"Science\",\"Humanities\",\"Engineering\",\"Engineering\",\"Engineering\",\"Computer Science\",\"Business & Management\",\"Computer Science\",\"Communication\",\"Economics & Finance\",\"Food & Nutrition\",\"Math\",\"Communication\",\"Data Analysis & Statistics\",\"Math\",\"Medicine\",\"Economics & Finance\",\"Business & Management\",\"Computer Science\",\"Art & Culture\",\"Architecture\",\"Business & Management\",\"Computer Science\",\"Computer Science\",\"Social Sciences\",\"Computer Science\",\"Business & Management\",\"Business & Management\",\"Social Sciences\",\"Art & Culture\"],\n",
       "\"size_category\":[5.0,6.0,4.0,2.0,3.0,4.0,1.0,2.0,4.0,4.0,3.0,2.0,2.0,4.0,1.0,2.0,2.0,6.0,2.0,3.0,4.0,7.0,3.0,6.0,7.0,8.0,5.0,4.0,7.0,6.0,2.0,4.0,4.0,3.0,4.0,4.0,4.0,5.0,8.0,6.0,5.0,7.0,4.0,4.0,6.0,6.0,7.0,4.0,6.0,7.0,3.0,4.0,2.0,5.0,2.0,2.0,4.0,4.0,5.0,4.0,4.0,4.0,3.0,4.0,5.0,4.0,2.0,4.0,3.0,5.0,2.0,4.0,3.0,5.0,4.0,2.0,6.0,5.0,5.0,4.0,2.0,2.0,2.0,5.0,5.0,2.0,2.0,2.0,6.0,2.0,2.0,4.0,4.0,4.0,2.0,4.0,2.0,4.0,3.0,2.0,2.0,3.0,5.0,2.0,3.0,2.0,2.0,2.0,2.0,3.0,2.0,3.0,4.0,2.0,2.0,2.0,4.0,2.0,4.0,2.0,2.0,2.0,4.0,2.0,2.0,4.0,2.0,2.0,5.0,4.0,2.0,3.0,2.0,3.0,4.0,4.0,2.0,4.0,2.0,2.0,3.0,2.0,2.0,5.0,2.0,3.0,2.0,2.0,3.0,4.0,2.0,2.0,3.0,2.0,4.0,3.0,2.0,4.0,2.0,2.0,3.0,2.0,2.0,2.0,2.0,3.0,2.0,2.0,2.0,4.0,2.0,3.0,2.0,2.0,3.0,4.0,2.0,2.0,2.0,2.0,2.0,2.0,4.0,2.0,4.0,3.0,4.0,2.0,4.0,4.0,3.0,4.0,2.0,3.0,2.0,3.0,4.0,4.0,4.0,2.0,2.0,5.0,2.0,2.0,4.0,4.0,3.0,3.0,2.0,2.0,2.0,3.0,2.0,2.0,4.0,2.0,3.0,2.0,4.0,2.0,3.0,2.0,4.0,3.0,4.0,3.0,2.0,5.0,4.0,2.0,4.0,3.0,3.0,2.0,3.0,3.0,3.0,3.0,1.0,2.0,1.0,2.0,2.0,4.0,3.0,2.0,2.0,3.0,2.0,1.0,4.0,3.0,4.0,3.0,2.0,2.0,3.0,2.0,3.0,2.0,3.0,2.0,3.0,2.0,4.0,2.0,2.0,2.0,1.0,1.0,2.0,3.0,2.0,1.0,4.0,4.0,2.0,4.0,2.0,3.0,2.0,4.0,2.0,2.0,2.0,3.0,4.0,3.0,2.0,2.0,2.0,4.0,3.0,2.0,2.0,2.0,2.0,2.0,3.0,2.0,2.0,2.0,4.0,2.0,3.0,1.0,2.0,2.0,2.0,2.0,3.0,2.0,3.0,2.0,4.0,3.0,3.0,2.0,3.0,4.0,2.0,4.0,3.0,3.0,2.0,2.0,2.0,2.0,1.0,3.0,2.0,4.0,4.0,2.0,1.0,3.0,2.0,2.0,2.0,4.0,1.0,3.0,4.0,3.0,4.0,2.0,2.0,2.0,2.0,2.0,2.0,3.0,2.0,2.0,4.0,2.0,2.0,1.0,3.0,2.0,2.0,3.0,2.0,2.0,2.0,2.0,2.0,1.0,2.0,1.0,3.0,1.0,4.0,1.0,2.0,2.0,2.0,2.0,2.0,2.0,3.0,2.0,1.0,1.0,3.0,1.0,2.0,2.0,1.0,1.0,2.0,1.0,3.0,2.0,1.0,2.0,2.0,3.0,2.0,2.0,2.0,2.0,1.0,1.0,4.0,3.0,2.0,2.0,2.0,2.0,1.0,2.0,4.0,2.0,2.0,2.0,3.0,2.0,2.0,2.0,2.0,2.0,2.0,3.0,2.0,2.0,1.0,2.0,3.0,1.0,1.0,3.0,2.0,2.0,2.0,4.0,1.0,2.0,3.0,2.0,4.0,2.0,3.0,2.0,1.0,1.0,2.0,3.0,1.0,2.0,2.0,2.0,2.0,2.0,3.0,3.0,3.0,1.0,3.0,3.0,2.0,2.0,2.0,2.0,3.0,2.0,3.0,3.0,2.0,2.0,2.0,2.0,2.0,2.0,1.0,1.0,1.0,2.0,1.0,1.0,1.0,2.0,2.0,2.0,2.0,2.0,2.0,2.0,2.0,1.0,3.0,2.0,1.0,2.0,2.0,2.0,2.0,1.0,1.0,2.0,2.0,2.0,1.0,2.0,2.0,2.0,4.0,1.0,3.0,2.0,1.0,3.0,1.0,1.0,2.0,1.0,2.0,2.0,2.0,2.0,2.0,1.0,2.0,1.0,2.0,4.0,2.0,3.0,1.0,3.0,4.0,1.0,2.0,3.0,1.0,1.0,1.0,1.0,2.0,2.0,2.0,2.0,2.0,1.0,1.0,1.0,3.0,2.0,1.0,2.0,1.0,2.0,1.0,1.0,1.0,2.0,4.0,1.0,3.0,2.0,2.0,2.0,1.0,2.0,2.0,2.0,2.0,2.0,2.0,2.0,2.0,2.0,2.0,2.0,2.0,1.0,2.0,1.0,2.0,1.0,1.0,2.0,1.0,2.0,1.0,2.0,2.0,2.0,2.0,3.0,2.0,1.0,2.0,2.0,2.0,1.0,2.0,2.0,2.0,2.0,2.0,1.0,2.0,2.0,1.0,2.0,2.0,3.0,2.0,1.0,2.0,1.0,2.0,2.0,3.0,2.0,2.0,3.0,2.0,2.0,2.0,2.0,2.0,1.0,2.0,1.0,2.0,2.0,2.0,2.0,2.0,2.0,1.0,2.0,1.0,1.0,2.0,2.0,2.0,1.0,2.0,1.0,2.0,2.0,2.0,2.0,2.0,2.0,4.0,4.0,1.0,2.0,2.0,2.0,2.0,2.0,4.0,2.0,2.0,2.0,1.0,3.0,1.0,2.0,2.0,4.0,2.0,1.0,1.0,2.0,2.0,2.0,2.0,2.0,2.0,3.0,3.0,2.0,1.0,2.0,3.0,2.0,3.0,1.0,2.0,1.0,2.0,1.0,1.0,1.0,1.0,2.0,2.0,2.0,1.0,2.0,2.0,2.0,2.0,2.0,2.0,3.0,1.0,1.0,1.0,2.0,2.0,1.0,2.0,2.0,2.0,2.0,1.0,1.0,1.0,1.0,2.0,2.0,2.0,5.0,3.0,2.0,2.0,1.0,2.0,2.0,2.0,2.0,1.0,2.0,2.0,2.0,4.0,1.0,1.0,2.0,1.0,2.0,2.0,1.0,1.0,1.0,2.0,1.0,2.0,2.0,2.0,1.0,1.0,1.0,1.0,2.0,2.0,2.0,2.0,2.0,1.0,2.0,2.0,2.0,1.0,2.0,2.0,2.0,1.0,3.0,2.0,1.0,1.0,2.0,1.0,1.0,1.0,2.0,2.0,2.0,2.0,1.0,3.0,2.0,3.0,2.0,2.0,2.0,2.0,1.0,1.0,1.0,2.0,2.0,2.0,2.0,3.0,2.0,2.0,2.0,2.0,2.0,1.0,1.0,1.0,1.0,1.0,1.0,2.0,2.0,1.0,2.0,2.0,1.0,1.0,2.0,3.0,1.0,2.0,2.0,1.0,1.0,3.0,3.0,3.0,2.0,2.0,2.0,2.0,1.0,1.0,1.0,1.0,1.0,1.0,1.0,3.0,1.0,2.0,1.0,1.0,2.0,2.0,2.0,2.0,1.0,2.0,1.0,1.0,1.0,1.0,2.0,2.0,2.0,3.0,1.0,2.0,2.0,1.0,1.0,1.0,2.0,1.0,1.0,1.0,2.0,2.0,2.0,2.0,2.0,2.0,2.0,1.0,2.0,2.0,1.0,2.0,1.0,2.0,2.0,2.0,2.0,1.0,3.0,2.0,2.0,2.0,1.0,1.0,2.0,1.0,1.0,1.0,2.0,2.0,1.0,2.0,2.0,1.0,1.0,2.0,2.0,1.0,1.0,1.0,2.0,2.0,1.0,1.0,1.0,1.0,3.0,2.0,2.0,2.0,1.0,2.0,2.0,2.0,2.0,1.0,1.0,4.0,2.0,1.0,1.0,2.0,2.0,2.0,1.0,2.0,2.0,2.0,3.0,2.0,3.0,2.0,2.0,2.0,1.0,1.0,2.0,1.0,1.0,1.0,2.0,2.0,2.0,2.0,2.0,2.0,2.0,2.0,2.0,1.0,1.0,1.0]\n",
       "},\n",
       "\"mapping\":{\n",
       "\"x\":\"time_commitment\",\n",
       "\"y\":\"price_£\",\n",
       "\"size\":\"size_category\",\n",
       "\"color\":\"subject\"\n",
       "},\n",
       "\"data_meta\":{\n",
       "},\n",
       "\"ggtitle\":{\n",
       "\"text\":\"Course Prices and Time Commitments, sized by Enrollment and colored by Subject\"\n",
       "},\n",
       "\"ggsize\":{\n",
       "\"width\":2000.0,\n",
       "\"height\":1750.0\n",
       "},\n",
       "\"kind\":\"plot\",\n",
       "\"scales\":[{\n",
       "\"name\":\"Price (£), log(10)\",\n",
       "\"aesthetic\":\"y\"\n",
       "},{\n",
       "\"name\":\"Time Commitment (Weekly Hours)\",\n",
       "\"aesthetic\":\"x\"\n",
       "},{\n",
       "\"aesthetic\":\"size\",\n",
       "\"range\":[2.0,10.0]\n",
       "},{\n",
       "\"aesthetic\":\"y\",\n",
       "\"trans\":\"log10\"\n",
       "},{\n",
       "\"name\":\"Subject\",\n",
       "\"aesthetic\":\"color\",\n",
       "\"discrete\":true\n",
       "}],\n",
       "\"layers\":[{\n",
       "\"geom\":\"point\",\n",
       "\"mapping\":{\n",
       "},\n",
       "\"data_meta\":{\n",
       "},\n",
       "\"alpha\":0.75,\n",
       "\"data\":{\n",
       "}\n",
       "}],\n",
       "\"metainfo_list\":[]\n",
       "};\n",
       "           var plotContainer = document.getElementById(\"OG1e27\");\n",
       "           window.letsPlotCall(function() {{\n",
       "               LetsPlot.buildPlotFromProcessedSpecs(plotSpec, -1, -1, plotContainer);\n",
       "           }});\n",
       "       })();\n",
       "   </script>"
      ],
      "text/plain": [
       "<lets_plot.plot.core.PlotSpec at 0x168da2ab0>"
      ]
     },
     "execution_count": 24,
     "metadata": {},
     "output_type": "execute_result"
    }
   ],
   "source": [
    "vis2 = (ggplot(df_vis2) +\n",
    "     aes(y='price_£', x='time_commitment', size='size_category', color='subject') +\n",
    "     geom_point(alpha=0.75) +\n",
    "     labs(y='Price (£), log(10)', x='Time Commitment (Weekly Hours)', title='Course Prices and Time Commitments, sized by Enrollment and colored by Subject') +\n",
    "     scale_size(range=[2,10]) +\n",
    "     scale_y_log10() +\n",
    "     ggsize(2000,1750) +  \n",
    "     scale_color_discrete(name='Subject'))\n",
    "vis2"
   ]
  },
  {
   "cell_type": "code",
   "execution_count": 25,
   "metadata": {},
   "outputs": [
    {
     "data": {
      "text/plain": [
       "'/Users/vaughnmitchell/Desktop/LSE/ME204/code/myproject/data/clean/docs/figures2.svg'"
      ]
     },
     "execution_count": 25,
     "metadata": {},
     "output_type": "execute_result"
    }
   ],
   "source": [
    "ggsave(vis2, DATA_FOLDER + \"2.svg\")"
   ]
  },
  {
   "cell_type": "code",
   "execution_count": 26,
   "metadata": {},
   "outputs": [],
   "source": [
    "cairosvg.svg2png(url= DATA_FOLDER + \"2.svg\", write_to= DATA_FOLDER + \"2.png\") "
   ]
  },
  {
   "cell_type": "markdown",
   "metadata": {},
   "source": [
    "This graph is not incredibly insightful by default, but under closer examination, I see that a lot of courses are outlined in contours of horizontal lines. This means that providers tend to set prices of certificates regardless of the weekly time commitment. "
   ]
  },
  {
   "cell_type": "markdown",
   "metadata": {},
   "source": [
    "## Visualization 3"
   ]
  },
  {
   "cell_type": "markdown",
   "metadata": {},
   "source": [
    "We already did courses by subject, what about enrollment by subject? What happens to be the most-enrolled subject that students are taking a class in?"
   ]
  },
  {
   "cell_type": "code",
   "execution_count": 27,
   "metadata": {},
   "outputs": [],
   "source": [
    "df_vis3 = pd.read_sql_query('''\n",
    "    SELECT\n",
    "        course,\n",
    "        SUM(current_enrollment) as enrollment_count,\n",
    "        subject   \n",
    "    FROM \n",
    "        courses\n",
    "    GROUP BY subject                         \n",
    "                            ''', conn)"
   ]
  },
  {
   "cell_type": "code",
   "execution_count": 28,
   "metadata": {},
   "outputs": [
    {
     "data": {
      "text/html": [
       "<div>\n",
       "<style scoped>\n",
       "    .dataframe tbody tr th:only-of-type {\n",
       "        vertical-align: middle;\n",
       "    }\n",
       "\n",
       "    .dataframe tbody tr th {\n",
       "        vertical-align: top;\n",
       "    }\n",
       "\n",
       "    .dataframe thead th {\n",
       "        text-align: right;\n",
       "    }\n",
       "</style>\n",
       "<table border=\"1\" class=\"dataframe\">\n",
       "  <thead>\n",
       "    <tr style=\"text-align: right;\">\n",
       "      <th></th>\n",
       "      <th>course</th>\n",
       "      <th>enrollment_count</th>\n",
       "      <th>subject</th>\n",
       "    </tr>\n",
       "  </thead>\n",
       "  <tbody>\n",
       "    <tr>\n",
       "      <th>0</th>\n",
       "      <td>The Architectural Imagination</td>\n",
       "      <td>732558</td>\n",
       "      <td>Architecture</td>\n",
       "    </tr>\n",
       "    <tr>\n",
       "      <th>1</th>\n",
       "      <td>Japanese Culture and Language (I) | 日语与日本文化（1）</td>\n",
       "      <td>263425</td>\n",
       "      <td>Art &amp; Culture</td>\n",
       "    </tr>\n",
       "    <tr>\n",
       "      <th>2</th>\n",
       "      <td>Fundamentals of Neuroscience, Part 1: The Elec...</td>\n",
       "      <td>2091579</td>\n",
       "      <td>Biology &amp; Life Sciences</td>\n",
       "    </tr>\n",
       "    <tr>\n",
       "      <th>3</th>\n",
       "      <td>Remote Work Revolution for Everyone</td>\n",
       "      <td>9035990</td>\n",
       "      <td>Business &amp; Management</td>\n",
       "    </tr>\n",
       "    <tr>\n",
       "      <th>4</th>\n",
       "      <td>Energy and Thermodynamics</td>\n",
       "      <td>368207</td>\n",
       "      <td>Chemistry</td>\n",
       "    </tr>\n",
       "  </tbody>\n",
       "</table>\n",
       "</div>"
      ],
      "text/plain": [
       "                                              course  enrollment_count  \\\n",
       "0                      The Architectural Imagination            732558   \n",
       "1     Japanese Culture and Language (I) | 日语与日本文化（1）            263425   \n",
       "2  Fundamentals of Neuroscience, Part 1: The Elec...           2091579   \n",
       "3                Remote Work Revolution for Everyone           9035990   \n",
       "4                          Energy and Thermodynamics            368207   \n",
       "\n",
       "                   subject  \n",
       "0             Architecture  \n",
       "1            Art & Culture  \n",
       "2  Biology & Life Sciences  \n",
       "3    Business & Management  \n",
       "4                Chemistry  "
      ]
     },
     "execution_count": 28,
     "metadata": {},
     "output_type": "execute_result"
    }
   ],
   "source": [
    "df_vis3.head()"
   ]
  },
  {
   "cell_type": "code",
   "execution_count": 29,
   "metadata": {},
   "outputs": [],
   "source": [
    "vis3 = ggplot(df_vis3) + \\\n",
    "geom_bar(mapping=aes(x=\"subject\",y=\"enrollment_count\"), stat=\"identity\", fill=\"blue\") + \\\n",
    "xlab(\"Subject\") + \\\n",
    "ylab(\"Enrollment Count\") + \\\n",
    "ggtitle(\"Enrollment Count by Subject\")"
   ]
  },
  {
   "cell_type": "code",
   "execution_count": 30,
   "metadata": {},
   "outputs": [
    {
     "data": {
      "text/html": [
       "   <div id=\"bduSej\"></div>\n",
       "   <script type=\"text/javascript\" data-lets-plot-script=\"plot\">\n",
       "       (function() {\n",
       "           var plotSpec={\n",
       "\"data\":{\n",
       "\"enrollment_count\":[732558.0,263425.0,2091579.0,9035990.0,368207.0,5845809.0,9743303.0,7959889.0,153566.0,1371760.0,516651.0,254916.0,62446.0,1910450.0,478581.0,7952.0,405917.0,311251.0,135902.0,4105568.0,2003002.0,77285.0,321126.0,743089.0,1311361.0,93750.0,0.0,181450.0,555411.0,223732.0,2314240.0],\n",
       "\"subject\":[\"Architecture\",\"Art & Culture\",\"Biology & Life Sciences\",\"Business & Management\",\"Chemistry\",\"Communication\",\"Computer Science\",\"Data Analysis & Statistics\",\"Design\",\"Economics & Finance\",\"Education & Teacher Training\",\"Electronics\",\"Energy & Earth Sciences\",\"Engineering\",\"Environmental Studies\",\"Ethics\",\"Food & Nutrition\",\"Health & Safety\",\"History\",\"Humanities\",\"Language\",\"Law\",\"Literature\",\"Math\",\"Medicine\",\"Music\",\"Philanthropy\",\"Philosophy & Ethics\",\"Physics\",\"Science\",\"Social Sciences\"]\n",
       "},\n",
       "\"mapping\":{\n",
       "},\n",
       "\"data_meta\":{\n",
       "},\n",
       "\"ggtitle\":{\n",
       "\"text\":\"Enrollment Count by Subject\"\n",
       "},\n",
       "\"kind\":\"plot\",\n",
       "\"scales\":[{\n",
       "\"name\":\"Subject\",\n",
       "\"aesthetic\":\"x\"\n",
       "},{\n",
       "\"name\":\"Enrollment Count\",\n",
       "\"aesthetic\":\"y\"\n",
       "}],\n",
       "\"layers\":[{\n",
       "\"geom\":\"bar\",\n",
       "\"stat\":\"identity\",\n",
       "\"mapping\":{\n",
       "\"x\":\"subject\",\n",
       "\"y\":\"enrollment_count\"\n",
       "},\n",
       "\"data_meta\":{\n",
       "},\n",
       "\"fill\":\"blue\",\n",
       "\"data\":{\n",
       "}\n",
       "}],\n",
       "\"metainfo_list\":[]\n",
       "};\n",
       "           var plotContainer = document.getElementById(\"bduSej\");\n",
       "           window.letsPlotCall(function() {{\n",
       "               LetsPlot.buildPlotFromProcessedSpecs(plotSpec, -1, -1, plotContainer);\n",
       "           }});\n",
       "       })();\n",
       "   </script>"
      ],
      "text/plain": [
       "<lets_plot.plot.core.PlotSpec at 0x16de47290>"
      ]
     },
     "execution_count": 30,
     "metadata": {},
     "output_type": "execute_result"
    }
   ],
   "source": [
    "vis3"
   ]
  },
  {
   "cell_type": "code",
   "execution_count": 31,
   "metadata": {},
   "outputs": [
    {
     "data": {
      "text/plain": [
       "'/Users/vaughnmitchell/Desktop/LSE/ME204/code/myproject/data/clean/docs/figures3.svg'"
      ]
     },
     "execution_count": 31,
     "metadata": {},
     "output_type": "execute_result"
    }
   ],
   "source": [
    "ggsave(vis3, DATA_FOLDER + \"3.svg\")"
   ]
  },
  {
   "cell_type": "code",
   "execution_count": 32,
   "metadata": {},
   "outputs": [],
   "source": [
    "cairosvg.svg2png(url= DATA_FOLDER + \"3.svg\", write_to= DATA_FOLDER + \"3.png\") "
   ]
  },
  {
   "cell_type": "markdown",
   "metadata": {},
   "source": [
    "Now we have enrollment count by subject! This visualization displays that - similar to the number of courses - Computer Science, Data Analysis & Statistics, and Business & Management have the highest enrollment for edX. This information is useful for curriculum developers seeking an online platform to distribute their course. For instance, they probably wouldn't have much success offering an Ethics course because there's only 7,952 enrolled students over 1 course. "
   ]
  }
 ],
 "metadata": {
  "kernelspec": {
   "display_name": ".venv",
   "language": "python",
   "name": "python3"
  },
  "language_info": {
   "codemirror_mode": {
    "name": "ipython",
    "version": 3
   },
   "file_extension": ".py",
   "mimetype": "text/x-python",
   "name": "python",
   "nbconvert_exporter": "python",
   "pygments_lexer": "ipython3",
   "version": "3.12.2"
  }
 },
 "nbformat": 4,
 "nbformat_minor": 2
}
