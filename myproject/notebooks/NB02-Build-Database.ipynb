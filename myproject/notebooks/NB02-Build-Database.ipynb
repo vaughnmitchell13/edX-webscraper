{
 "cells": [
  {
   "cell_type": "markdown",
   "metadata": {},
   "source": [
    "ME204 - Data Engineering for the Social World"
   ]
  },
  {
   "cell_type": "markdown",
   "metadata": {},
   "source": [
    "# **Notebook 2 - Database Building**"
   ]
  },
  {
   "cell_type": "markdown",
   "metadata": {},
   "source": [
    "Goals:\n",
    "- Reorganize columns (price, course, provider) and rows (NA's) to filter correct information.\n",
    "- Remove any courses that were \"parent\" pages leading to more classes I already scraped, as this is redundant data and affects eventual EDA.\n",
    "- Link my DataFrame to a SQLite database, run queries to discover insights for questions I have\n",
    "    - Ex. Examining the relationship between course duration and price: which courses offer the 'best' deal?\n",
    "    - Ex. Which categories have the highest enrollment?"
   ]
  },
  {
   "cell_type": "markdown",
   "metadata": {},
   "source": [
    "Imports:"
   ]
  },
  {
   "cell_type": "code",
   "execution_count": 12,
   "metadata": {},
   "outputs": [],
   "source": [
    "#For data cleaning\n",
    "import pandas as pd\n",
    "import os\n",
    "import sqlite3\n",
    "from datetime import datetime\n",
    "import re"
   ]
  },
  {
   "cell_type": "markdown",
   "metadata": {},
   "source": [
    "Reading the CSV into a DataFrame:"
   ]
  },
  {
   "cell_type": "code",
   "execution_count": 15,
   "metadata": {},
   "outputs": [
    {
     "data": {
      "text/plain": [
       "'/Users/vaughnmitchell/Desktop/LSE/ME204/code/myproject/data/raw'"
      ]
     },
     "execution_count": 15,
     "metadata": {},
     "output_type": "execute_result"
    }
   ],
   "source": [
    "os.getcwd()\n",
    "os.chdir(\"../myproject/data/raw\")"
   ]
  },
  {
   "cell_type": "code",
   "execution_count": 16,
   "metadata": {},
   "outputs": [
    {
     "data": {
      "text/html": [
       "<div>\n",
       "<style scoped>\n",
       "    .dataframe tbody tr th:only-of-type {\n",
       "        vertical-align: middle;\n",
       "    }\n",
       "\n",
       "    .dataframe tbody tr th {\n",
       "        vertical-align: top;\n",
       "    }\n",
       "\n",
       "    .dataframe thead th {\n",
       "        text-align: right;\n",
       "    }\n",
       "</style>\n",
       "<table border=\"1\" class=\"dataframe\">\n",
       "  <thead>\n",
       "    <tr style=\"text-align: right;\">\n",
       "      <th></th>\n",
       "      <th>Unnamed: 0</th>\n",
       "      <th>course</th>\n",
       "      <th>provider</th>\n",
       "      <th>link</th>\n",
       "      <th>course_length</th>\n",
       "      <th>time_commitment</th>\n",
       "      <th>start_date</th>\n",
       "      <th>current_enrollment</th>\n",
       "      <th>pace</th>\n",
       "      <th>price</th>\n",
       "      <th>subject</th>\n",
       "    </tr>\n",
       "  </thead>\n",
       "  <tbody>\n",
       "    <tr>\n",
       "      <th>0</th>\n",
       "      <td>0</td>\n",
       "      <td>How to Learn Online</td>\n",
       "      <td>edX</td>\n",
       "      <td>https://www.edx.org/learn/how-to-learn/edx-how...</td>\n",
       "      <td>2 weeks</td>\n",
       "      <td>2–3 hours per week</td>\n",
       "      <td>Starts Jul 27</td>\n",
       "      <td>287998</td>\n",
       "      <td>Self-paced</td>\n",
       "      <td>£54</td>\n",
       "      <td>Education &amp; Teacher Training</td>\n",
       "    </tr>\n",
       "    <tr>\n",
       "      <th>1</th>\n",
       "      <td>1</td>\n",
       "      <td>The Science of\\nHappiness</td>\n",
       "      <td>University of California, Ber…</td>\n",
       "      <td>https://www.edx.org/learn/happiness/university...</td>\n",
       "      <td>11 weeks</td>\n",
       "      <td>4–5 hours per week</td>\n",
       "      <td>Starts Jul 27</td>\n",
       "      <td>583920</td>\n",
       "      <td>Self-paced</td>\n",
       "      <td>£131</td>\n",
       "      <td>Social Sciences</td>\n",
       "    </tr>\n",
       "    <tr>\n",
       "      <th>2</th>\n",
       "      <td>2</td>\n",
       "      <td>Remote Work\\nRevolution for\\nEveryone</td>\n",
       "      <td>Harvard University</td>\n",
       "      <td>https://www.edx.org/learn/remote-work/harvard-...</td>\n",
       "      <td>3 weeks</td>\n",
       "      <td>2–3 hours per week</td>\n",
       "      <td>Starts Jul 27</td>\n",
       "      <td>114666</td>\n",
       "      <td>Self-paced</td>\n",
       "      <td>£116</td>\n",
       "      <td>Business &amp; Management</td>\n",
       "    </tr>\n",
       "    <tr>\n",
       "      <th>3</th>\n",
       "      <td>3</td>\n",
       "      <td>CS50's Introduction to\\nComputer Science</td>\n",
       "      <td>Harvard University</td>\n",
       "      <td>https://www.edx.org/learn/computer-science/har...</td>\n",
       "      <td>12 weeks</td>\n",
       "      <td>6–18 hours per week</td>\n",
       "      <td>Starts Jul 27</td>\n",
       "      <td>5988868</td>\n",
       "      <td>Self-paced</td>\n",
       "      <td>£0</td>\n",
       "      <td>Computer Science</td>\n",
       "    </tr>\n",
       "    <tr>\n",
       "      <th>4</th>\n",
       "      <td>4</td>\n",
       "      <td>Data Visualization and\\nBuilding Dashboards\\nw...</td>\n",
       "      <td>IBM</td>\n",
       "      <td>https://www.edx.org/learn/data-visualization/i...</td>\n",
       "      <td>4 weeks</td>\n",
       "      <td>2–3 hours per week</td>\n",
       "      <td>Starts Jul 27</td>\n",
       "      <td>48226</td>\n",
       "      <td>Self-paced</td>\n",
       "      <td>£77</td>\n",
       "      <td>Data Analysis &amp; Statistics</td>\n",
       "    </tr>\n",
       "  </tbody>\n",
       "</table>\n",
       "</div>"
      ],
      "text/plain": [
       "   Unnamed: 0                                             course  \\\n",
       "0           0                                How to Learn Online   \n",
       "1           1                          The Science of\\nHappiness   \n",
       "2           2              Remote Work\\nRevolution for\\nEveryone   \n",
       "3           3           CS50's Introduction to\\nComputer Science   \n",
       "4           4  Data Visualization and\\nBuilding Dashboards\\nw...   \n",
       "\n",
       "                         provider  \\\n",
       "0                             edX   \n",
       "1  University of California, Ber…   \n",
       "2              Harvard University   \n",
       "3              Harvard University   \n",
       "4                             IBM   \n",
       "\n",
       "                                                link course_length  \\\n",
       "0  https://www.edx.org/learn/how-to-learn/edx-how...       2 weeks   \n",
       "1  https://www.edx.org/learn/happiness/university...      11 weeks   \n",
       "2  https://www.edx.org/learn/remote-work/harvard-...       3 weeks   \n",
       "3  https://www.edx.org/learn/computer-science/har...      12 weeks   \n",
       "4  https://www.edx.org/learn/data-visualization/i...       4 weeks   \n",
       "\n",
       "       time_commitment     start_date  current_enrollment        pace price  \\\n",
       "0   2–3 hours per week  Starts Jul 27              287998  Self-paced   £54   \n",
       "1   4–5 hours per week  Starts Jul 27              583920  Self-paced  £131   \n",
       "2   2–3 hours per week  Starts Jul 27              114666  Self-paced  £116   \n",
       "3  6–18 hours per week  Starts Jul 27             5988868  Self-paced    £0   \n",
       "4   2–3 hours per week  Starts Jul 27               48226  Self-paced   £77   \n",
       "\n",
       "                        subject  \n",
       "0  Education & Teacher Training  \n",
       "1               Social Sciences  \n",
       "2         Business & Management  \n",
       "3              Computer Science  \n",
       "4    Data Analysis & Statistics  "
      ]
     },
     "execution_count": 16,
     "metadata": {},
     "output_type": "execute_result"
    }
   ],
   "source": [
    "df_uncleaned = pd.read_csv(\"raw.csv\")\n",
    "df_uncleaned.head()"
   ]
  },
  {
   "cell_type": "markdown",
   "metadata": {},
   "source": [
    "When we saved the data to a CSV, a new column called \"Unnamed: 0\" was created. Let's delete that first:"
   ]
  },
  {
   "cell_type": "code",
   "execution_count": 17,
   "metadata": {},
   "outputs": [],
   "source": [
    "df_uncleaned = df_uncleaned.drop(\"Unnamed: 0\",axis=1)"
   ]
  },
  {
   "cell_type": "code",
   "execution_count": 18,
   "metadata": {},
   "outputs": [
    {
     "data": {
      "text/html": [
       "<div>\n",
       "<style scoped>\n",
       "    .dataframe tbody tr th:only-of-type {\n",
       "        vertical-align: middle;\n",
       "    }\n",
       "\n",
       "    .dataframe tbody tr th {\n",
       "        vertical-align: top;\n",
       "    }\n",
       "\n",
       "    .dataframe thead th {\n",
       "        text-align: right;\n",
       "    }\n",
       "</style>\n",
       "<table border=\"1\" class=\"dataframe\">\n",
       "  <thead>\n",
       "    <tr style=\"text-align: right;\">\n",
       "      <th></th>\n",
       "      <th>course</th>\n",
       "      <th>provider</th>\n",
       "      <th>link</th>\n",
       "      <th>course_length</th>\n",
       "      <th>time_commitment</th>\n",
       "      <th>start_date</th>\n",
       "      <th>current_enrollment</th>\n",
       "      <th>pace</th>\n",
       "      <th>price</th>\n",
       "      <th>subject</th>\n",
       "    </tr>\n",
       "  </thead>\n",
       "  <tbody>\n",
       "    <tr>\n",
       "      <th>0</th>\n",
       "      <td>How to Learn Online</td>\n",
       "      <td>edX</td>\n",
       "      <td>https://www.edx.org/learn/how-to-learn/edx-how...</td>\n",
       "      <td>2 weeks</td>\n",
       "      <td>2–3 hours per week</td>\n",
       "      <td>Starts Jul 27</td>\n",
       "      <td>287998</td>\n",
       "      <td>Self-paced</td>\n",
       "      <td>£54</td>\n",
       "      <td>Education &amp; Teacher Training</td>\n",
       "    </tr>\n",
       "    <tr>\n",
       "      <th>1</th>\n",
       "      <td>The Science of\\nHappiness</td>\n",
       "      <td>University of California, Ber…</td>\n",
       "      <td>https://www.edx.org/learn/happiness/university...</td>\n",
       "      <td>11 weeks</td>\n",
       "      <td>4–5 hours per week</td>\n",
       "      <td>Starts Jul 27</td>\n",
       "      <td>583920</td>\n",
       "      <td>Self-paced</td>\n",
       "      <td>£131</td>\n",
       "      <td>Social Sciences</td>\n",
       "    </tr>\n",
       "    <tr>\n",
       "      <th>2</th>\n",
       "      <td>Remote Work\\nRevolution for\\nEveryone</td>\n",
       "      <td>Harvard University</td>\n",
       "      <td>https://www.edx.org/learn/remote-work/harvard-...</td>\n",
       "      <td>3 weeks</td>\n",
       "      <td>2–3 hours per week</td>\n",
       "      <td>Starts Jul 27</td>\n",
       "      <td>114666</td>\n",
       "      <td>Self-paced</td>\n",
       "      <td>£116</td>\n",
       "      <td>Business &amp; Management</td>\n",
       "    </tr>\n",
       "    <tr>\n",
       "      <th>3</th>\n",
       "      <td>CS50's Introduction to\\nComputer Science</td>\n",
       "      <td>Harvard University</td>\n",
       "      <td>https://www.edx.org/learn/computer-science/har...</td>\n",
       "      <td>12 weeks</td>\n",
       "      <td>6–18 hours per week</td>\n",
       "      <td>Starts Jul 27</td>\n",
       "      <td>5988868</td>\n",
       "      <td>Self-paced</td>\n",
       "      <td>£0</td>\n",
       "      <td>Computer Science</td>\n",
       "    </tr>\n",
       "    <tr>\n",
       "      <th>4</th>\n",
       "      <td>Data Visualization and\\nBuilding Dashboards\\nw...</td>\n",
       "      <td>IBM</td>\n",
       "      <td>https://www.edx.org/learn/data-visualization/i...</td>\n",
       "      <td>4 weeks</td>\n",
       "      <td>2–3 hours per week</td>\n",
       "      <td>Starts Jul 27</td>\n",
       "      <td>48226</td>\n",
       "      <td>Self-paced</td>\n",
       "      <td>£77</td>\n",
       "      <td>Data Analysis &amp; Statistics</td>\n",
       "    </tr>\n",
       "  </tbody>\n",
       "</table>\n",
       "</div>"
      ],
      "text/plain": [
       "                                              course  \\\n",
       "0                                How to Learn Online   \n",
       "1                          The Science of\\nHappiness   \n",
       "2              Remote Work\\nRevolution for\\nEveryone   \n",
       "3           CS50's Introduction to\\nComputer Science   \n",
       "4  Data Visualization and\\nBuilding Dashboards\\nw...   \n",
       "\n",
       "                         provider  \\\n",
       "0                             edX   \n",
       "1  University of California, Ber…   \n",
       "2              Harvard University   \n",
       "3              Harvard University   \n",
       "4                             IBM   \n",
       "\n",
       "                                                link course_length  \\\n",
       "0  https://www.edx.org/learn/how-to-learn/edx-how...       2 weeks   \n",
       "1  https://www.edx.org/learn/happiness/university...      11 weeks   \n",
       "2  https://www.edx.org/learn/remote-work/harvard-...       3 weeks   \n",
       "3  https://www.edx.org/learn/computer-science/har...      12 weeks   \n",
       "4  https://www.edx.org/learn/data-visualization/i...       4 weeks   \n",
       "\n",
       "       time_commitment     start_date  current_enrollment        pace price  \\\n",
       "0   2–3 hours per week  Starts Jul 27              287998  Self-paced   £54   \n",
       "1   4–5 hours per week  Starts Jul 27              583920  Self-paced  £131   \n",
       "2   2–3 hours per week  Starts Jul 27              114666  Self-paced  £116   \n",
       "3  6–18 hours per week  Starts Jul 27             5988868  Self-paced    £0   \n",
       "4   2–3 hours per week  Starts Jul 27               48226  Self-paced   £77   \n",
       "\n",
       "                        subject  \n",
       "0  Education & Teacher Training  \n",
       "1               Social Sciences  \n",
       "2         Business & Management  \n",
       "3              Computer Science  \n",
       "4    Data Analysis & Statistics  "
      ]
     },
     "execution_count": 18,
     "metadata": {},
     "output_type": "execute_result"
    }
   ],
   "source": [
    "df_uncleaned.head()"
   ]
  },
  {
   "cell_type": "markdown",
   "metadata": {},
   "source": [
    "I also see that the `price` column has the \"£\" sign in it. Also, there are some prices that have a \",\" in them. I'd like to remove both symbols:"
   ]
  },
  {
   "cell_type": "code",
   "execution_count": 19,
   "metadata": {},
   "outputs": [],
   "source": [
    "df_uncleaned['price'] = df_uncleaned['price'].str.replace(\"£\",\"\").str.replace(\",\",\"\").astype(int)"
   ]
  },
  {
   "cell_type": "markdown",
   "metadata": {},
   "source": [
    "Lastly with the `price` column, I should mention that all of these courses are *technically* free. However, my EDA is concerned with courses that offer a certificate, so I will remove all rows that contain a \"0\" as no certificate is available:"
   ]
  },
  {
   "cell_type": "code",
   "execution_count": 21,
   "metadata": {},
   "outputs": [],
   "source": [
    "df_uncleaned = df_uncleaned[df_uncleaned['price'] != 0]"
   ]
  },
  {
   "cell_type": "code",
   "execution_count": 22,
   "metadata": {},
   "outputs": [
    {
     "data": {
      "text/html": [
       "<div>\n",
       "<style scoped>\n",
       "    .dataframe tbody tr th:only-of-type {\n",
       "        vertical-align: middle;\n",
       "    }\n",
       "\n",
       "    .dataframe tbody tr th {\n",
       "        vertical-align: top;\n",
       "    }\n",
       "\n",
       "    .dataframe thead th {\n",
       "        text-align: right;\n",
       "    }\n",
       "</style>\n",
       "<table border=\"1\" class=\"dataframe\">\n",
       "  <thead>\n",
       "    <tr style=\"text-align: right;\">\n",
       "      <th></th>\n",
       "      <th>course</th>\n",
       "      <th>provider</th>\n",
       "      <th>link</th>\n",
       "      <th>course_length</th>\n",
       "      <th>time_commitment</th>\n",
       "      <th>start_date</th>\n",
       "      <th>current_enrollment</th>\n",
       "      <th>pace</th>\n",
       "      <th>price</th>\n",
       "      <th>subject</th>\n",
       "    </tr>\n",
       "  </thead>\n",
       "  <tbody>\n",
       "    <tr>\n",
       "      <th>0</th>\n",
       "      <td>How to Learn Online</td>\n",
       "      <td>edX</td>\n",
       "      <td>https://www.edx.org/learn/how-to-learn/edx-how...</td>\n",
       "      <td>2 weeks</td>\n",
       "      <td>2–3 hours per week</td>\n",
       "      <td>Starts Jul 27</td>\n",
       "      <td>287998</td>\n",
       "      <td>Self-paced</td>\n",
       "      <td>54</td>\n",
       "      <td>Education &amp; Teacher Training</td>\n",
       "    </tr>\n",
       "    <tr>\n",
       "      <th>1</th>\n",
       "      <td>The Science of\\nHappiness</td>\n",
       "      <td>University of California, Ber…</td>\n",
       "      <td>https://www.edx.org/learn/happiness/university...</td>\n",
       "      <td>11 weeks</td>\n",
       "      <td>4–5 hours per week</td>\n",
       "      <td>Starts Jul 27</td>\n",
       "      <td>583920</td>\n",
       "      <td>Self-paced</td>\n",
       "      <td>131</td>\n",
       "      <td>Social Sciences</td>\n",
       "    </tr>\n",
       "    <tr>\n",
       "      <th>2</th>\n",
       "      <td>Remote Work\\nRevolution for\\nEveryone</td>\n",
       "      <td>Harvard University</td>\n",
       "      <td>https://www.edx.org/learn/remote-work/harvard-...</td>\n",
       "      <td>3 weeks</td>\n",
       "      <td>2–3 hours per week</td>\n",
       "      <td>Starts Jul 27</td>\n",
       "      <td>114666</td>\n",
       "      <td>Self-paced</td>\n",
       "      <td>116</td>\n",
       "      <td>Business &amp; Management</td>\n",
       "    </tr>\n",
       "    <tr>\n",
       "      <th>4</th>\n",
       "      <td>Data Visualization and\\nBuilding Dashboards\\nw...</td>\n",
       "      <td>IBM</td>\n",
       "      <td>https://www.edx.org/learn/data-visualization/i...</td>\n",
       "      <td>4 weeks</td>\n",
       "      <td>2–3 hours per week</td>\n",
       "      <td>Starts Jul 27</td>\n",
       "      <td>48226</td>\n",
       "      <td>Self-paced</td>\n",
       "      <td>77</td>\n",
       "      <td>Data Analysis &amp; Statistics</td>\n",
       "    </tr>\n",
       "    <tr>\n",
       "      <th>5</th>\n",
       "      <td>Six Sigma Part 2:\\nAnalyze, Improve,\\nControl</td>\n",
       "      <td>Technische Universität Mün…</td>\n",
       "      <td>https://www.edx.org/learn/six-sigma/technische...</td>\n",
       "      <td>8 weeks</td>\n",
       "      <td>3–4 hours per week</td>\n",
       "      <td>Starts Jul 27</td>\n",
       "      <td>85904</td>\n",
       "      <td>Self-paced</td>\n",
       "      <td>147</td>\n",
       "      <td>Business &amp; Management</td>\n",
       "    </tr>\n",
       "  </tbody>\n",
       "</table>\n",
       "</div>"
      ],
      "text/plain": [
       "                                              course  \\\n",
       "0                                How to Learn Online   \n",
       "1                          The Science of\\nHappiness   \n",
       "2              Remote Work\\nRevolution for\\nEveryone   \n",
       "4  Data Visualization and\\nBuilding Dashboards\\nw...   \n",
       "5      Six Sigma Part 2:\\nAnalyze, Improve,\\nControl   \n",
       "\n",
       "                         provider  \\\n",
       "0                             edX   \n",
       "1  University of California, Ber…   \n",
       "2              Harvard University   \n",
       "4                             IBM   \n",
       "5     Technische Universität Mün…   \n",
       "\n",
       "                                                link course_length  \\\n",
       "0  https://www.edx.org/learn/how-to-learn/edx-how...       2 weeks   \n",
       "1  https://www.edx.org/learn/happiness/university...      11 weeks   \n",
       "2  https://www.edx.org/learn/remote-work/harvard-...       3 weeks   \n",
       "4  https://www.edx.org/learn/data-visualization/i...       4 weeks   \n",
       "5  https://www.edx.org/learn/six-sigma/technische...       8 weeks   \n",
       "\n",
       "      time_commitment     start_date  current_enrollment        pace  price  \\\n",
       "0  2–3 hours per week  Starts Jul 27              287998  Self-paced     54   \n",
       "1  4–5 hours per week  Starts Jul 27              583920  Self-paced    131   \n",
       "2  2–3 hours per week  Starts Jul 27              114666  Self-paced    116   \n",
       "4  2–3 hours per week  Starts Jul 27               48226  Self-paced     77   \n",
       "5  3–4 hours per week  Starts Jul 27               85904  Self-paced    147   \n",
       "\n",
       "                        subject  \n",
       "0  Education & Teacher Training  \n",
       "1               Social Sciences  \n",
       "2         Business & Management  \n",
       "4    Data Analysis & Statistics  \n",
       "5         Business & Management  "
      ]
     },
     "execution_count": 22,
     "metadata": {},
     "output_type": "execute_result"
    }
   ],
   "source": [
    "df_uncleaned.head()"
   ]
  },
  {
   "cell_type": "markdown",
   "metadata": {},
   "source": [
    "Let's also add the '£' symbol back into the name of the price column to remember what currency we are working with:"
   ]
  },
  {
   "cell_type": "code",
   "execution_count": 23,
   "metadata": {},
   "outputs": [],
   "source": [
    "df_uncleaned = df_uncleaned.rename(columns={\"price\":\"price_£\"})"
   ]
  },
  {
   "cell_type": "code",
   "execution_count": 24,
   "metadata": {},
   "outputs": [
    {
     "data": {
      "text/plain": [
       "Index(['course', 'provider', 'link', 'course_length', 'time_commitment',\n",
       "       'start_date', 'current_enrollment', 'pace', 'price_£', 'subject'],\n",
       "      dtype='object')"
      ]
     },
     "execution_count": 24,
     "metadata": {},
     "output_type": "execute_result"
    }
   ],
   "source": [
    "df_uncleaned.columns"
   ]
  },
  {
   "cell_type": "markdown",
   "metadata": {},
   "source": [
    "Now take a look at the `course` column. For some courses that span multiple lines, there is a \"\\n\" that needs to be removed:"
   ]
  },
  {
   "cell_type": "code",
   "execution_count": 25,
   "metadata": {},
   "outputs": [],
   "source": [
    "df_uncleaned['course'] = df_uncleaned['course'].str.replace(\"\\n\", \" \")"
   ]
  },
  {
   "cell_type": "markdown",
   "metadata": {},
   "source": [
    "Likewise with the `provider` column, some university/insitution names span multiple lines, there is a \"\\n\" that needs to be removed. Removing the \"\\n\" from both columns could be done in one line, but for instructive purposes I run the commands separately:"
   ]
  },
  {
   "cell_type": "code",
   "execution_count": 26,
   "metadata": {},
   "outputs": [],
   "source": [
    "df_uncleaned['provider'] = df_uncleaned['provider'].str.replace(\"\\n\" , \" \")"
   ]
  },
  {
   "cell_type": "code",
   "execution_count": 27,
   "metadata": {},
   "outputs": [
    {
     "data": {
      "text/html": [
       "<div>\n",
       "<style scoped>\n",
       "    .dataframe tbody tr th:only-of-type {\n",
       "        vertical-align: middle;\n",
       "    }\n",
       "\n",
       "    .dataframe tbody tr th {\n",
       "        vertical-align: top;\n",
       "    }\n",
       "\n",
       "    .dataframe thead th {\n",
       "        text-align: right;\n",
       "    }\n",
       "</style>\n",
       "<table border=\"1\" class=\"dataframe\">\n",
       "  <thead>\n",
       "    <tr style=\"text-align: right;\">\n",
       "      <th></th>\n",
       "      <th>course</th>\n",
       "      <th>provider</th>\n",
       "      <th>link</th>\n",
       "      <th>course_length</th>\n",
       "      <th>time_commitment</th>\n",
       "      <th>start_date</th>\n",
       "      <th>current_enrollment</th>\n",
       "      <th>pace</th>\n",
       "      <th>price_£</th>\n",
       "      <th>subject</th>\n",
       "    </tr>\n",
       "  </thead>\n",
       "  <tbody>\n",
       "    <tr>\n",
       "      <th>0</th>\n",
       "      <td>How to Learn Online</td>\n",
       "      <td>edX</td>\n",
       "      <td>https://www.edx.org/learn/how-to-learn/edx-how...</td>\n",
       "      <td>2 weeks</td>\n",
       "      <td>2–3 hours per week</td>\n",
       "      <td>Starts Jul 27</td>\n",
       "      <td>287998</td>\n",
       "      <td>Self-paced</td>\n",
       "      <td>54</td>\n",
       "      <td>Education &amp; Teacher Training</td>\n",
       "    </tr>\n",
       "    <tr>\n",
       "      <th>1</th>\n",
       "      <td>The Science of Happiness</td>\n",
       "      <td>University of California, Ber…</td>\n",
       "      <td>https://www.edx.org/learn/happiness/university...</td>\n",
       "      <td>11 weeks</td>\n",
       "      <td>4–5 hours per week</td>\n",
       "      <td>Starts Jul 27</td>\n",
       "      <td>583920</td>\n",
       "      <td>Self-paced</td>\n",
       "      <td>131</td>\n",
       "      <td>Social Sciences</td>\n",
       "    </tr>\n",
       "    <tr>\n",
       "      <th>2</th>\n",
       "      <td>Remote Work Revolution for Everyone</td>\n",
       "      <td>Harvard University</td>\n",
       "      <td>https://www.edx.org/learn/remote-work/harvard-...</td>\n",
       "      <td>3 weeks</td>\n",
       "      <td>2–3 hours per week</td>\n",
       "      <td>Starts Jul 27</td>\n",
       "      <td>114666</td>\n",
       "      <td>Self-paced</td>\n",
       "      <td>116</td>\n",
       "      <td>Business &amp; Management</td>\n",
       "    </tr>\n",
       "    <tr>\n",
       "      <th>4</th>\n",
       "      <td>Data Visualization and Building Dashboards wit...</td>\n",
       "      <td>IBM</td>\n",
       "      <td>https://www.edx.org/learn/data-visualization/i...</td>\n",
       "      <td>4 weeks</td>\n",
       "      <td>2–3 hours per week</td>\n",
       "      <td>Starts Jul 27</td>\n",
       "      <td>48226</td>\n",
       "      <td>Self-paced</td>\n",
       "      <td>77</td>\n",
       "      <td>Data Analysis &amp; Statistics</td>\n",
       "    </tr>\n",
       "    <tr>\n",
       "      <th>5</th>\n",
       "      <td>Six Sigma Part 2: Analyze, Improve, Control</td>\n",
       "      <td>Technische Universität Mün…</td>\n",
       "      <td>https://www.edx.org/learn/six-sigma/technische...</td>\n",
       "      <td>8 weeks</td>\n",
       "      <td>3–4 hours per week</td>\n",
       "      <td>Starts Jul 27</td>\n",
       "      <td>85904</td>\n",
       "      <td>Self-paced</td>\n",
       "      <td>147</td>\n",
       "      <td>Business &amp; Management</td>\n",
       "    </tr>\n",
       "  </tbody>\n",
       "</table>\n",
       "</div>"
      ],
      "text/plain": [
       "                                              course  \\\n",
       "0                                How to Learn Online   \n",
       "1                           The Science of Happiness   \n",
       "2                Remote Work Revolution for Everyone   \n",
       "4  Data Visualization and Building Dashboards wit...   \n",
       "5        Six Sigma Part 2: Analyze, Improve, Control   \n",
       "\n",
       "                         provider  \\\n",
       "0                             edX   \n",
       "1  University of California, Ber…   \n",
       "2              Harvard University   \n",
       "4                             IBM   \n",
       "5     Technische Universität Mün…   \n",
       "\n",
       "                                                link course_length  \\\n",
       "0  https://www.edx.org/learn/how-to-learn/edx-how...       2 weeks   \n",
       "1  https://www.edx.org/learn/happiness/university...      11 weeks   \n",
       "2  https://www.edx.org/learn/remote-work/harvard-...       3 weeks   \n",
       "4  https://www.edx.org/learn/data-visualization/i...       4 weeks   \n",
       "5  https://www.edx.org/learn/six-sigma/technische...       8 weeks   \n",
       "\n",
       "      time_commitment     start_date  current_enrollment        pace  price_£  \\\n",
       "0  2–3 hours per week  Starts Jul 27              287998  Self-paced       54   \n",
       "1  4–5 hours per week  Starts Jul 27              583920  Self-paced      131   \n",
       "2  2–3 hours per week  Starts Jul 27              114666  Self-paced      116   \n",
       "4  2–3 hours per week  Starts Jul 27               48226  Self-paced       77   \n",
       "5  3–4 hours per week  Starts Jul 27               85904  Self-paced      147   \n",
       "\n",
       "                        subject  \n",
       "0  Education & Teacher Training  \n",
       "1               Social Sciences  \n",
       "2         Business & Management  \n",
       "4    Data Analysis & Statistics  \n",
       "5         Business & Management  "
      ]
     },
     "execution_count": 27,
     "metadata": {},
     "output_type": "execute_result"
    }
   ],
   "source": [
    "df_uncleaned.head()"
   ]
  },
  {
   "cell_type": "markdown",
   "metadata": {},
   "source": [
    "There could also be issues with the `course_length` column as the type is a string. I want to remove the \" weeks\" information from the entries and only extract the number as an integer, renaming the column to still understand that the data is in weeks:"
   ]
  },
  {
   "cell_type": "code",
   "execution_count": 28,
   "metadata": {},
   "outputs": [],
   "source": [
    "df_uncleaned['course_length'] = df_uncleaned['course_length'].str.replace(\" weeks\", \"\").astype(int)"
   ]
  },
  {
   "cell_type": "markdown",
   "metadata": {},
   "source": [
    "Now let's rename the column:"
   ]
  },
  {
   "cell_type": "code",
   "execution_count": 29,
   "metadata": {},
   "outputs": [],
   "source": [
    "df_uncleaned = df_uncleaned.rename(columns={\"course_length\": \"course_length_weeks\"})"
   ]
  },
  {
   "cell_type": "code",
   "execution_count": 30,
   "metadata": {},
   "outputs": [
    {
     "name": "stdout",
     "output_type": "stream",
     "text": [
      "<class 'pandas.core.frame.DataFrame'>\n",
      "Index: 954 entries, 0 to 999\n",
      "Data columns (total 10 columns):\n",
      " #   Column               Non-Null Count  Dtype \n",
      "---  ------               --------------  ----- \n",
      " 0   course               954 non-null    object\n",
      " 1   provider             954 non-null    object\n",
      " 2   link                 954 non-null    object\n",
      " 3   course_length_weeks  954 non-null    int64 \n",
      " 4   time_commitment      954 non-null    object\n",
      " 5   start_date           953 non-null    object\n",
      " 6   current_enrollment   954 non-null    int64 \n",
      " 7   pace                 954 non-null    object\n",
      " 8   price_£              954 non-null    int64 \n",
      " 9   subject              954 non-null    object\n",
      "dtypes: int64(3), object(7)\n",
      "memory usage: 82.0+ KB\n"
     ]
    }
   ],
   "source": [
    "df_uncleaned.info()"
   ]
  },
  {
   "cell_type": "markdown",
   "metadata": {},
   "source": [
    "I also see that some courses are available from today until December 31st. This means that we have to rescrape the data every day because the start date would update online but not in my DataFrame. Let me change this:"
   ]
  },
  {
   "cell_type": "code",
   "execution_count": 31,
   "metadata": {},
   "outputs": [],
   "source": [
    "df_uncleaned['start_date'] = df_uncleaned['start_date'].str.replace(\"Starts\",\"\").str.strip()\n",
    "df_uncleaned['start_date'] = df_uncleaned['start_date'].str.replace(\"Started\",\"\").str.strip()\n",
    "df_uncleaned['start_date'] = df_uncleaned['start_date'] + ' 2024'"
   ]
  },
  {
   "cell_type": "code",
   "execution_count": 32,
   "metadata": {},
   "outputs": [],
   "source": [
    "df_uncleaned['start_date'] = pd.to_datetime(df_uncleaned['start_date'], format='%b %d %Y')"
   ]
  },
  {
   "cell_type": "markdown",
   "metadata": {},
   "source": [
    "There is at least one entry with \"NaT\" or \"Not a Time\":"
   ]
  },
  {
   "cell_type": "code",
   "execution_count": 33,
   "metadata": {},
   "outputs": [],
   "source": [
    "df_uncleaned = df_uncleaned.dropna(subset='start_date')"
   ]
  },
  {
   "cell_type": "code",
   "execution_count": 34,
   "metadata": {},
   "outputs": [],
   "source": [
    "today = datetime.today()\n",
    "def replace_with_today(date):\n",
    "    if date.date() == today.date():\n",
    "        return 'Available Today'\n",
    "    else:\n",
    "        return date.strftime('%b %d')\n",
    "df_uncleaned['start_date'] = df_uncleaned['start_date'].apply(replace_with_today)"
   ]
  },
  {
   "cell_type": "code",
   "execution_count": 35,
   "metadata": {},
   "outputs": [
    {
     "data": {
      "text/html": [
       "<div>\n",
       "<style scoped>\n",
       "    .dataframe tbody tr th:only-of-type {\n",
       "        vertical-align: middle;\n",
       "    }\n",
       "\n",
       "    .dataframe tbody tr th {\n",
       "        vertical-align: top;\n",
       "    }\n",
       "\n",
       "    .dataframe thead th {\n",
       "        text-align: right;\n",
       "    }\n",
       "</style>\n",
       "<table border=\"1\" class=\"dataframe\">\n",
       "  <thead>\n",
       "    <tr style=\"text-align: right;\">\n",
       "      <th></th>\n",
       "      <th>course</th>\n",
       "      <th>provider</th>\n",
       "      <th>link</th>\n",
       "      <th>course_length_weeks</th>\n",
       "      <th>time_commitment</th>\n",
       "      <th>start_date</th>\n",
       "      <th>current_enrollment</th>\n",
       "      <th>pace</th>\n",
       "      <th>price_£</th>\n",
       "      <th>subject</th>\n",
       "    </tr>\n",
       "  </thead>\n",
       "  <tbody>\n",
       "    <tr>\n",
       "      <th>0</th>\n",
       "      <td>How to Learn Online</td>\n",
       "      <td>edX</td>\n",
       "      <td>https://www.edx.org/learn/how-to-learn/edx-how...</td>\n",
       "      <td>2</td>\n",
       "      <td>2–3 hours per week</td>\n",
       "      <td>Jul 27</td>\n",
       "      <td>287998</td>\n",
       "      <td>Self-paced</td>\n",
       "      <td>54</td>\n",
       "      <td>Education &amp; Teacher Training</td>\n",
       "    </tr>\n",
       "    <tr>\n",
       "      <th>1</th>\n",
       "      <td>The Science of Happiness</td>\n",
       "      <td>University of California, Ber…</td>\n",
       "      <td>https://www.edx.org/learn/happiness/university...</td>\n",
       "      <td>11</td>\n",
       "      <td>4–5 hours per week</td>\n",
       "      <td>Jul 27</td>\n",
       "      <td>583920</td>\n",
       "      <td>Self-paced</td>\n",
       "      <td>131</td>\n",
       "      <td>Social Sciences</td>\n",
       "    </tr>\n",
       "    <tr>\n",
       "      <th>2</th>\n",
       "      <td>Remote Work Revolution for Everyone</td>\n",
       "      <td>Harvard University</td>\n",
       "      <td>https://www.edx.org/learn/remote-work/harvard-...</td>\n",
       "      <td>3</td>\n",
       "      <td>2–3 hours per week</td>\n",
       "      <td>Jul 27</td>\n",
       "      <td>114666</td>\n",
       "      <td>Self-paced</td>\n",
       "      <td>116</td>\n",
       "      <td>Business &amp; Management</td>\n",
       "    </tr>\n",
       "    <tr>\n",
       "      <th>4</th>\n",
       "      <td>Data Visualization and Building Dashboards wit...</td>\n",
       "      <td>IBM</td>\n",
       "      <td>https://www.edx.org/learn/data-visualization/i...</td>\n",
       "      <td>4</td>\n",
       "      <td>2–3 hours per week</td>\n",
       "      <td>Jul 27</td>\n",
       "      <td>48226</td>\n",
       "      <td>Self-paced</td>\n",
       "      <td>77</td>\n",
       "      <td>Data Analysis &amp; Statistics</td>\n",
       "    </tr>\n",
       "    <tr>\n",
       "      <th>5</th>\n",
       "      <td>Six Sigma Part 2: Analyze, Improve, Control</td>\n",
       "      <td>Technische Universität Mün…</td>\n",
       "      <td>https://www.edx.org/learn/six-sigma/technische...</td>\n",
       "      <td>8</td>\n",
       "      <td>3–4 hours per week</td>\n",
       "      <td>Jul 27</td>\n",
       "      <td>85904</td>\n",
       "      <td>Self-paced</td>\n",
       "      <td>147</td>\n",
       "      <td>Business &amp; Management</td>\n",
       "    </tr>\n",
       "  </tbody>\n",
       "</table>\n",
       "</div>"
      ],
      "text/plain": [
       "                                              course  \\\n",
       "0                                How to Learn Online   \n",
       "1                           The Science of Happiness   \n",
       "2                Remote Work Revolution for Everyone   \n",
       "4  Data Visualization and Building Dashboards wit...   \n",
       "5        Six Sigma Part 2: Analyze, Improve, Control   \n",
       "\n",
       "                         provider  \\\n",
       "0                             edX   \n",
       "1  University of California, Ber…   \n",
       "2              Harvard University   \n",
       "4                             IBM   \n",
       "5     Technische Universität Mün…   \n",
       "\n",
       "                                                link  course_length_weeks  \\\n",
       "0  https://www.edx.org/learn/how-to-learn/edx-how...                    2   \n",
       "1  https://www.edx.org/learn/happiness/university...                   11   \n",
       "2  https://www.edx.org/learn/remote-work/harvard-...                    3   \n",
       "4  https://www.edx.org/learn/data-visualization/i...                    4   \n",
       "5  https://www.edx.org/learn/six-sigma/technische...                    8   \n",
       "\n",
       "      time_commitment start_date  current_enrollment        pace  price_£  \\\n",
       "0  2–3 hours per week     Jul 27              287998  Self-paced       54   \n",
       "1  4–5 hours per week     Jul 27              583920  Self-paced      131   \n",
       "2  2–3 hours per week     Jul 27              114666  Self-paced      116   \n",
       "4  2–3 hours per week     Jul 27               48226  Self-paced       77   \n",
       "5  3–4 hours per week     Jul 27               85904  Self-paced      147   \n",
       "\n",
       "                        subject  \n",
       "0  Education & Teacher Training  \n",
       "1               Social Sciences  \n",
       "2         Business & Management  \n",
       "4    Data Analysis & Statistics  \n",
       "5         Business & Management  "
      ]
     },
     "execution_count": 35,
     "metadata": {},
     "output_type": "execute_result"
    }
   ],
   "source": [
    "df_uncleaned.head()"
   ]
  },
  {
   "cell_type": "markdown",
   "metadata": {},
   "source": [
    "Later in our EDA and visualization, there could be a potential problem with the `time_commitment` column as it is a string and not an integer. Let's define a function that finds the midpoint of these hourly ranges and casts them to an integer:"
   ]
  },
  {
   "cell_type": "code",
   "execution_count": 36,
   "metadata": {},
   "outputs": [],
   "source": [
    "def extract_average(s):\n",
    "    numbers = list(map(int, re.findall(r'\\d+', s)))\n",
    "    if len(numbers) == 2:\n",
    "        return (numbers[0] + numbers[1]) / 2\n",
    "\n",
    "# Apply the function to the 'time_commitment' column\n",
    "df_uncleaned['time_commitment'] = df_uncleaned['time_commitment'].apply(extract_average)"
   ]
  },
  {
   "cell_type": "markdown",
   "metadata": {},
   "source": [
    "Finally, there are some \"NA\" values that were collected in the `start_date`, `current_enrollment`,`pace`, and `subject` columns. This was due to the fact that the webdriver found a page and collected values it could find for a course \"parent\" page, which means an institution had a another subpage for additional classes it offered. This does not mean data was lost, as I still scraped these \"child\" courses in the original script. Let's remove any institutions' courses that led to a parent course page on the edX site:"
   ]
  },
  {
   "cell_type": "code",
   "execution_count": 37,
   "metadata": {},
   "outputs": [],
   "source": [
    "columns_to_check = ['start_date','current_enrollment','pace','subject']\n",
    "df_uncleaned = df_uncleaned.dropna(axis=0, subset=columns_to_check)"
   ]
  },
  {
   "cell_type": "markdown",
   "metadata": {},
   "source": [
    "Now, `df_uncleaned` seems tidy. Here I will save it to another DataFrame `df_clean` and export that to a SQLite database:"
   ]
  },
  {
   "cell_type": "code",
   "execution_count": 38,
   "metadata": {},
   "outputs": [],
   "source": [
    "df_clean = df_uncleaned\n"
   ]
  },
  {
   "cell_type": "code",
   "execution_count": 49,
   "metadata": {},
   "outputs": [],
   "source": [
    "# os.chdir(\"../data/clean\")\n",
    "DATA_FOLDER = os.getcwd()\n"
   ]
  },
  {
   "cell_type": "markdown",
   "metadata": {},
   "source": [
    "Now, let me load the SQL extension into this notebook and configure autocommits:"
   ]
  },
  {
   "cell_type": "code",
   "execution_count": 50,
   "metadata": {},
   "outputs": [
    {
     "name": "stdout",
     "output_type": "stream",
     "text": [
      "The sql extension is already loaded. To reload it, use:\n",
      "  %reload_ext sql\n"
     ]
    }
   ],
   "source": [
    "%load_ext sql\n",
    "%config SqlMagic.autocommit=True"
   ]
  },
  {
   "cell_type": "markdown",
   "metadata": {},
   "source": [
    "Creating a SQLite3 database:"
   ]
  },
  {
   "cell_type": "code",
   "execution_count": 51,
   "metadata": {},
   "outputs": [],
   "source": [
    "conn = sqlite3.connect(os.path.join(DATA_FOLDER, \"edx.db\"))"
   ]
  },
  {
   "cell_type": "markdown",
   "metadata": {},
   "source": [
    "Creating our our first table:"
   ]
  },
  {
   "cell_type": "code",
   "execution_count": 52,
   "metadata": {},
   "outputs": [
    {
     "data": {
      "text/plain": [
       "<sqlite3.Cursor at 0x1435a3cc0>"
      ]
     },
     "execution_count": 52,
     "metadata": {},
     "output_type": "execute_result"
    }
   ],
   "source": [
    "conn.execute('''\n",
    "CREATE TABLE IF NOT EXISTS courses(\n",
    "    course TEXT PRIMARY KEY,\n",
    "    provider TEXT,\n",
    "    link TEXT,\n",
    "    course_length_weeks INTEGER,\n",
    "    time_commitment TEXT,\n",
    "    start_date TEXT,\n",
    "    current_enrollment INTEGER,\n",
    "    pace TEXT,\n",
    "    price_£ INTEGER,\n",
    "    subject TEXT     \n",
    "    )   \n",
    "''')"
   ]
  },
  {
   "cell_type": "markdown",
   "metadata": {},
   "source": [
    "Here I export the `df_clean` DataFrame to the SQLite `courses` table, which essentially copies all the data from our cleaned DataFrame into one master table:"
   ]
  },
  {
   "cell_type": "code",
   "execution_count": 53,
   "metadata": {},
   "outputs": [
    {
     "data": {
      "text/plain": [
       "953"
      ]
     },
     "execution_count": 53,
     "metadata": {},
     "output_type": "execute_result"
    }
   ],
   "source": [
    "df_clean.to_sql('courses', conn, if_exists=\"replace\", index=False)\n"
   ]
  },
  {
   "cell_type": "markdown",
   "metadata": {},
   "source": [
    "I am also interested in the relationship between course length and price to see which courses offer the high duration-to-value ratio:"
   ]
  },
  {
   "cell_type": "code",
   "execution_count": 54,
   "metadata": {},
   "outputs": [
    {
     "data": {
      "text/plain": [
       "953"
      ]
     },
     "execution_count": 54,
     "metadata": {},
     "output_type": "execute_result"
    }
   ],
   "source": [
    "conn.execute('''\n",
    "CREATE TABLE IF NOT EXISTS value (\n",
    "    course TEXT PRIMARY KEY,\n",
    "    course_length_weeks INTEGER,\n",
    "    price_£ INTEGER\n",
    ")\n",
    "''')\n",
    "\n",
    "df_clean[['course','course_length_weeks','price_£']].to_sql('value', conn, if_exists=\"replace\", index=False)"
   ]
  },
  {
   "cell_type": "markdown",
   "metadata": {},
   "source": [
    "Now, let's make a table that can help us examine enrollment by category:"
   ]
  },
  {
   "cell_type": "code",
   "execution_count": 55,
   "metadata": {},
   "outputs": [
    {
     "data": {
      "text/plain": [
       "953"
      ]
     },
     "execution_count": 55,
     "metadata": {},
     "output_type": "execute_result"
    }
   ],
   "source": [
    "conn.execute('''\n",
    "CREATE TABLE IF NOT EXISTS enrollment_by_subject(\n",
    "    course TEXT PRIMARY KEY,\n",
    "    current_enrollment INTEGER,\n",
    "    subject TEXT          \n",
    ")\n",
    "''')\n",
    "\n",
    "df_clean[['course','current_enrollment','subject']].to_sql('enrollment_by_subject', conn, if_exists=\"replace\", index=False)"
   ]
  },
  {
   "cell_type": "markdown",
   "metadata": {},
   "source": [
    "This marks the end of this notebook. See `NB03-EDA-and-Dataviz.ipynb` for exploratory data analysis and data cleaning."
   ]
  }
 ],
 "metadata": {
  "kernelspec": {
   "display_name": ".venv",
   "language": "python",
   "name": "python3"
  },
  "language_info": {
   "codemirror_mode": {
    "name": "ipython",
    "version": 3
   },
   "file_extension": ".py",
   "mimetype": "text/x-python",
   "name": "python",
   "nbconvert_exporter": "python",
   "pygments_lexer": "ipython3",
   "version": "3.12.1"
  }
 },
 "nbformat": 4,
 "nbformat_minor": 2
}
